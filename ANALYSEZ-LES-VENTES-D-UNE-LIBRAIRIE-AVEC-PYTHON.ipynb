{
 "cells": [
  {
   "cell_type": "markdown",
   "id": "6b2024d4",
   "metadata": {},
   "source": [
    "# Analysez les ventes d'une librairie avec Python"
   ]
  },
  {
   "cell_type": "markdown",
   "id": "cb1c91ac",
   "metadata": {},
   "source": [
    "# Sommaire :\n",
    " - <a href=\"#C1\">1. Importation des données</a>\n",
    " \n",
    " - <a href=\"#C2\">2. Nettoyer le jeu de données</a>\n",
    " \n",
    " \n",
    " - <a href=\"#C3\">3. Un zoom sur les références, les tops et les flops, la répartition par catégorie, etc</a>\n",
    " - <a href=\"#C4\">4. Différents indicateurs et graphiques autour du CA</a>\n",
    " - <a href=\"#C5\">5. L’évolution dans le temps - moyenne mobile </a>\n",
    " - <a href=\"#C6\">6. Quelques informations sur les profils de nos clients </a>\n",
    " - <a href=\"#C7\">7. La répartition du chiffre d'affaires entre les clients : une courbe de Lorenz - l'indice de GINI </a>\n",
    " \n",
    " \n",
    " - <a href=\"#C8\">8. Le lien entre l’âge des clients et la fréquence d’achat </a>\n",
    " \n",
    " - <a href=\"#C9\">9. Le lien entre l’âge des clients et le montant total des achats </a>\n",
    " - <a href=\"#C10\">10. Le lien entre l’âge des clients et les catégories des livres achetés - ANOVA - Test de Levene - Le test de Kruskal-Wallis</a>\n",
    " - <a href=\"#C11\">11. Le lien entre l'âge des clients et la taille moyenne du panier </a>\n",
    " - <a href=\"#C12\">12. Le lien entre le genre d’un client et les catégories des livres achetés - Chi2</a>\n",
    "\n",
    "## <a name=\"C1\">1. Importation des données</a>\n",
    "\n",
    "Importons dans un premier temps l'ensemble des librairies qui vont nous servir durant l'entièreté de ce projet :"
   ]
  },
  {
   "cell_type": "code",
   "execution_count": 1,
   "id": "ea1be2e7",
   "metadata": {},
   "outputs": [],
   "source": [
    "import pandas as pd\n",
    "import numpy as np\n",
    "import seaborn as sns\n",
    "import plotly as plt\n",
    "import datetime as dt\n",
    "import matplotlib.pyplot as  plt\n",
    "import plotly.graph_objs as go\n",
    "import scipy.stats as stats"
   ]
  },
  {
   "cell_type": "markdown",
   "id": "621c4353",
   "metadata": {},
   "source": [
    "Nous pouvons à présent charger le jeu de données. "
   ]
  },
  {
   "cell_type": "code",
   "execution_count": 2,
   "id": "9a853f92",
   "metadata": {},
   "outputs": [],
   "source": [
    "customers = pd.read_csv('customers.csv')\n",
    "products = pd.read_csv('products.csv')\n",
    "transactions = pd.read_csv('transactions.csv')"
   ]
  },
  {
   "cell_type": "markdown",
   "id": "f8c03c78",
   "metadata": {},
   "source": [
    " ### Customers"
   ]
  },
  {
   "cell_type": "code",
   "execution_count": 3,
   "id": "dfa3fdc1",
   "metadata": {
    "scrolled": true
   },
   "outputs": [
    {
     "data": {
      "text/html": [
       "<div>\n",
       "<style scoped>\n",
       "    .dataframe tbody tr th:only-of-type {\n",
       "        vertical-align: middle;\n",
       "    }\n",
       "\n",
       "    .dataframe tbody tr th {\n",
       "        vertical-align: top;\n",
       "    }\n",
       "\n",
       "    .dataframe thead th {\n",
       "        text-align: right;\n",
       "    }\n",
       "</style>\n",
       "<table border=\"1\" class=\"dataframe\">\n",
       "  <thead>\n",
       "    <tr style=\"text-align: right;\">\n",
       "      <th></th>\n",
       "      <th>client_id</th>\n",
       "      <th>sex</th>\n",
       "      <th>birth</th>\n",
       "    </tr>\n",
       "  </thead>\n",
       "  <tbody>\n",
       "    <tr>\n",
       "      <th>0</th>\n",
       "      <td>c_4410</td>\n",
       "      <td>f</td>\n",
       "      <td>1967</td>\n",
       "    </tr>\n",
       "    <tr>\n",
       "      <th>1</th>\n",
       "      <td>c_7839</td>\n",
       "      <td>f</td>\n",
       "      <td>1975</td>\n",
       "    </tr>\n",
       "    <tr>\n",
       "      <th>2</th>\n",
       "      <td>c_1699</td>\n",
       "      <td>f</td>\n",
       "      <td>1984</td>\n",
       "    </tr>\n",
       "    <tr>\n",
       "      <th>3</th>\n",
       "      <td>c_5961</td>\n",
       "      <td>f</td>\n",
       "      <td>1962</td>\n",
       "    </tr>\n",
       "    <tr>\n",
       "      <th>4</th>\n",
       "      <td>c_5320</td>\n",
       "      <td>m</td>\n",
       "      <td>1943</td>\n",
       "    </tr>\n",
       "  </tbody>\n",
       "</table>\n",
       "</div>"
      ],
      "text/plain": [
       "  client_id sex  birth\n",
       "0    c_4410   f   1967\n",
       "1    c_7839   f   1975\n",
       "2    c_1699   f   1984\n",
       "3    c_5961   f   1962\n",
       "4    c_5320   m   1943"
      ]
     },
     "execution_count": 3,
     "metadata": {},
     "output_type": "execute_result"
    }
   ],
   "source": [
    "customers.head()"
   ]
  },
  {
   "cell_type": "code",
   "execution_count": 4,
   "id": "76af3d19",
   "metadata": {
    "scrolled": true
   },
   "outputs": [
    {
     "data": {
      "text/html": [
       "<div>\n",
       "<style scoped>\n",
       "    .dataframe tbody tr th:only-of-type {\n",
       "        vertical-align: middle;\n",
       "    }\n",
       "\n",
       "    .dataframe tbody tr th {\n",
       "        vertical-align: top;\n",
       "    }\n",
       "\n",
       "    .dataframe thead th {\n",
       "        text-align: right;\n",
       "    }\n",
       "</style>\n",
       "<table border=\"1\" class=\"dataframe\">\n",
       "  <thead>\n",
       "    <tr style=\"text-align: right;\">\n",
       "      <th></th>\n",
       "      <th>birth</th>\n",
       "    </tr>\n",
       "  </thead>\n",
       "  <tbody>\n",
       "    <tr>\n",
       "      <th>count</th>\n",
       "      <td>8623.000000</td>\n",
       "    </tr>\n",
       "    <tr>\n",
       "      <th>mean</th>\n",
       "      <td>1978.280877</td>\n",
       "    </tr>\n",
       "    <tr>\n",
       "      <th>std</th>\n",
       "      <td>16.919535</td>\n",
       "    </tr>\n",
       "    <tr>\n",
       "      <th>min</th>\n",
       "      <td>1929.000000</td>\n",
       "    </tr>\n",
       "    <tr>\n",
       "      <th>25%</th>\n",
       "      <td>1966.000000</td>\n",
       "    </tr>\n",
       "    <tr>\n",
       "      <th>50%</th>\n",
       "      <td>1979.000000</td>\n",
       "    </tr>\n",
       "    <tr>\n",
       "      <th>75%</th>\n",
       "      <td>1992.000000</td>\n",
       "    </tr>\n",
       "    <tr>\n",
       "      <th>max</th>\n",
       "      <td>2004.000000</td>\n",
       "    </tr>\n",
       "  </tbody>\n",
       "</table>\n",
       "</div>"
      ],
      "text/plain": [
       "             birth\n",
       "count  8623.000000\n",
       "mean   1978.280877\n",
       "std      16.919535\n",
       "min    1929.000000\n",
       "25%    1966.000000\n",
       "50%    1979.000000\n",
       "75%    1992.000000\n",
       "max    2004.000000"
      ]
     },
     "execution_count": 4,
     "metadata": {},
     "output_type": "execute_result"
    }
   ],
   "source": [
    "customers.describe()"
   ]
  },
  {
   "cell_type": "code",
   "execution_count": 5,
   "id": "e69a3595",
   "metadata": {
    "scrolled": true
   },
   "outputs": [
    {
     "data": {
      "text/plain": [
       "8623"
      ]
     },
     "execution_count": 5,
     "metadata": {},
     "output_type": "execute_result"
    }
   ],
   "source": [
    "customers.client_id.nunique()"
   ]
  },
  {
   "cell_type": "code",
   "execution_count": 6,
   "id": "03e9594c",
   "metadata": {},
   "outputs": [
    {
     "name": "stdout",
     "output_type": "stream",
     "text": [
      "<class 'pandas.core.frame.DataFrame'>\n",
      "RangeIndex: 8623 entries, 0 to 8622\n",
      "Data columns (total 3 columns):\n",
      " #   Column     Non-Null Count  Dtype \n",
      "---  ------     --------------  ----- \n",
      " 0   client_id  8623 non-null   object\n",
      " 1   sex        8623 non-null   object\n",
      " 2   birth      8623 non-null   int64 \n",
      "dtypes: int64(1), object(2)\n",
      "memory usage: 202.2+ KB\n"
     ]
    }
   ],
   "source": [
    "customers.info()"
   ]
  },
  {
   "cell_type": "markdown",
   "id": "c6bde063",
   "metadata": {},
   "source": [
    "### Products"
   ]
  },
  {
   "cell_type": "code",
   "execution_count": 7,
   "id": "935ee19a",
   "metadata": {
    "scrolled": true
   },
   "outputs": [
    {
     "data": {
      "text/html": [
       "<div>\n",
       "<style scoped>\n",
       "    .dataframe tbody tr th:only-of-type {\n",
       "        vertical-align: middle;\n",
       "    }\n",
       "\n",
       "    .dataframe tbody tr th {\n",
       "        vertical-align: top;\n",
       "    }\n",
       "\n",
       "    .dataframe thead th {\n",
       "        text-align: right;\n",
       "    }\n",
       "</style>\n",
       "<table border=\"1\" class=\"dataframe\">\n",
       "  <thead>\n",
       "    <tr style=\"text-align: right;\">\n",
       "      <th></th>\n",
       "      <th>id_prod</th>\n",
       "      <th>price</th>\n",
       "      <th>categ</th>\n",
       "    </tr>\n",
       "  </thead>\n",
       "  <tbody>\n",
       "    <tr>\n",
       "      <th>0</th>\n",
       "      <td>0_1421</td>\n",
       "      <td>19.99</td>\n",
       "      <td>0</td>\n",
       "    </tr>\n",
       "    <tr>\n",
       "      <th>1</th>\n",
       "      <td>0_1368</td>\n",
       "      <td>5.13</td>\n",
       "      <td>0</td>\n",
       "    </tr>\n",
       "    <tr>\n",
       "      <th>2</th>\n",
       "      <td>0_731</td>\n",
       "      <td>17.99</td>\n",
       "      <td>0</td>\n",
       "    </tr>\n",
       "    <tr>\n",
       "      <th>3</th>\n",
       "      <td>1_587</td>\n",
       "      <td>4.99</td>\n",
       "      <td>1</td>\n",
       "    </tr>\n",
       "    <tr>\n",
       "      <th>4</th>\n",
       "      <td>0_1507</td>\n",
       "      <td>3.99</td>\n",
       "      <td>0</td>\n",
       "    </tr>\n",
       "  </tbody>\n",
       "</table>\n",
       "</div>"
      ],
      "text/plain": [
       "  id_prod  price  categ\n",
       "0  0_1421  19.99      0\n",
       "1  0_1368   5.13      0\n",
       "2   0_731  17.99      0\n",
       "3   1_587   4.99      1\n",
       "4  0_1507   3.99      0"
      ]
     },
     "execution_count": 7,
     "metadata": {},
     "output_type": "execute_result"
    }
   ],
   "source": [
    "products.head()"
   ]
  },
  {
   "cell_type": "code",
   "execution_count": 8,
   "id": "e4952491",
   "metadata": {
    "scrolled": true
   },
   "outputs": [
    {
     "data": {
      "text/html": [
       "<div>\n",
       "<style scoped>\n",
       "    .dataframe tbody tr th:only-of-type {\n",
       "        vertical-align: middle;\n",
       "    }\n",
       "\n",
       "    .dataframe tbody tr th {\n",
       "        vertical-align: top;\n",
       "    }\n",
       "\n",
       "    .dataframe thead th {\n",
       "        text-align: right;\n",
       "    }\n",
       "</style>\n",
       "<table border=\"1\" class=\"dataframe\">\n",
       "  <thead>\n",
       "    <tr style=\"text-align: right;\">\n",
       "      <th></th>\n",
       "      <th>price</th>\n",
       "      <th>categ</th>\n",
       "    </tr>\n",
       "  </thead>\n",
       "  <tbody>\n",
       "    <tr>\n",
       "      <th>count</th>\n",
       "      <td>3287.000000</td>\n",
       "      <td>3287.000000</td>\n",
       "    </tr>\n",
       "    <tr>\n",
       "      <th>mean</th>\n",
       "      <td>21.856641</td>\n",
       "      <td>0.370246</td>\n",
       "    </tr>\n",
       "    <tr>\n",
       "      <th>std</th>\n",
       "      <td>29.847908</td>\n",
       "      <td>0.615387</td>\n",
       "    </tr>\n",
       "    <tr>\n",
       "      <th>min</th>\n",
       "      <td>-1.000000</td>\n",
       "      <td>0.000000</td>\n",
       "    </tr>\n",
       "    <tr>\n",
       "      <th>25%</th>\n",
       "      <td>6.990000</td>\n",
       "      <td>0.000000</td>\n",
       "    </tr>\n",
       "    <tr>\n",
       "      <th>50%</th>\n",
       "      <td>13.060000</td>\n",
       "      <td>0.000000</td>\n",
       "    </tr>\n",
       "    <tr>\n",
       "      <th>75%</th>\n",
       "      <td>22.990000</td>\n",
       "      <td>1.000000</td>\n",
       "    </tr>\n",
       "    <tr>\n",
       "      <th>max</th>\n",
       "      <td>300.000000</td>\n",
       "      <td>2.000000</td>\n",
       "    </tr>\n",
       "  </tbody>\n",
       "</table>\n",
       "</div>"
      ],
      "text/plain": [
       "             price        categ\n",
       "count  3287.000000  3287.000000\n",
       "mean     21.856641     0.370246\n",
       "std      29.847908     0.615387\n",
       "min      -1.000000     0.000000\n",
       "25%       6.990000     0.000000\n",
       "50%      13.060000     0.000000\n",
       "75%      22.990000     1.000000\n",
       "max     300.000000     2.000000"
      ]
     },
     "execution_count": 8,
     "metadata": {},
     "output_type": "execute_result"
    }
   ],
   "source": [
    "products.describe()"
   ]
  },
  {
   "cell_type": "code",
   "execution_count": 9,
   "id": "11807c26",
   "metadata": {
    "scrolled": true
   },
   "outputs": [
    {
     "data": {
      "text/plain": [
       "3287"
      ]
     },
     "execution_count": 9,
     "metadata": {},
     "output_type": "execute_result"
    }
   ],
   "source": [
    "products.id_prod.nunique()"
   ]
  },
  {
   "cell_type": "code",
   "execution_count": 10,
   "id": "85038e8e",
   "metadata": {},
   "outputs": [
    {
     "name": "stdout",
     "output_type": "stream",
     "text": [
      "<class 'pandas.core.frame.DataFrame'>\n",
      "RangeIndex: 3287 entries, 0 to 3286\n",
      "Data columns (total 3 columns):\n",
      " #   Column   Non-Null Count  Dtype  \n",
      "---  ------   --------------  -----  \n",
      " 0   id_prod  3287 non-null   object \n",
      " 1   price    3287 non-null   float64\n",
      " 2   categ    3287 non-null   int64  \n",
      "dtypes: float64(1), int64(1), object(1)\n",
      "memory usage: 77.2+ KB\n"
     ]
    }
   ],
   "source": [
    "products.info()"
   ]
  },
  {
   "cell_type": "markdown",
   "id": "fcf0230e",
   "metadata": {},
   "source": [
    "### Transactions"
   ]
  },
  {
   "cell_type": "code",
   "execution_count": 11,
   "id": "e85a2646",
   "metadata": {},
   "outputs": [
    {
     "data": {
      "text/html": [
       "<div>\n",
       "<style scoped>\n",
       "    .dataframe tbody tr th:only-of-type {\n",
       "        vertical-align: middle;\n",
       "    }\n",
       "\n",
       "    .dataframe tbody tr th {\n",
       "        vertical-align: top;\n",
       "    }\n",
       "\n",
       "    .dataframe thead th {\n",
       "        text-align: right;\n",
       "    }\n",
       "</style>\n",
       "<table border=\"1\" class=\"dataframe\">\n",
       "  <thead>\n",
       "    <tr style=\"text-align: right;\">\n",
       "      <th></th>\n",
       "      <th>id_prod</th>\n",
       "      <th>date</th>\n",
       "      <th>session_id</th>\n",
       "      <th>client_id</th>\n",
       "    </tr>\n",
       "  </thead>\n",
       "  <tbody>\n",
       "    <tr>\n",
       "      <th>0</th>\n",
       "      <td>0_1518</td>\n",
       "      <td>2022-05-20 13:21:29.043970</td>\n",
       "      <td>s_211425</td>\n",
       "      <td>c_103</td>\n",
       "    </tr>\n",
       "    <tr>\n",
       "      <th>1</th>\n",
       "      <td>1_251</td>\n",
       "      <td>2022-02-02 07:55:19.149409</td>\n",
       "      <td>s_158752</td>\n",
       "      <td>c_8534</td>\n",
       "    </tr>\n",
       "    <tr>\n",
       "      <th>2</th>\n",
       "      <td>0_1277</td>\n",
       "      <td>2022-06-18 15:44:33.155329</td>\n",
       "      <td>s_225667</td>\n",
       "      <td>c_6714</td>\n",
       "    </tr>\n",
       "    <tr>\n",
       "      <th>3</th>\n",
       "      <td>2_209</td>\n",
       "      <td>2021-06-24 04:19:29.835891</td>\n",
       "      <td>s_52962</td>\n",
       "      <td>c_6941</td>\n",
       "    </tr>\n",
       "    <tr>\n",
       "      <th>4</th>\n",
       "      <td>0_1509</td>\n",
       "      <td>2023-01-11 08:22:08.194479</td>\n",
       "      <td>s_325227</td>\n",
       "      <td>c_4232</td>\n",
       "    </tr>\n",
       "  </tbody>\n",
       "</table>\n",
       "</div>"
      ],
      "text/plain": [
       "  id_prod                        date session_id client_id\n",
       "0  0_1518  2022-05-20 13:21:29.043970   s_211425     c_103\n",
       "1   1_251  2022-02-02 07:55:19.149409   s_158752    c_8534\n",
       "2  0_1277  2022-06-18 15:44:33.155329   s_225667    c_6714\n",
       "3   2_209  2021-06-24 04:19:29.835891    s_52962    c_6941\n",
       "4  0_1509  2023-01-11 08:22:08.194479   s_325227    c_4232"
      ]
     },
     "execution_count": 11,
     "metadata": {},
     "output_type": "execute_result"
    }
   ],
   "source": [
    "transactions.head()"
   ]
  },
  {
   "cell_type": "code",
   "execution_count": 12,
   "id": "daf8e976",
   "metadata": {
    "scrolled": true
   },
   "outputs": [
    {
     "data": {
      "text/html": [
       "<div>\n",
       "<style scoped>\n",
       "    .dataframe tbody tr th:only-of-type {\n",
       "        vertical-align: middle;\n",
       "    }\n",
       "\n",
       "    .dataframe tbody tr th {\n",
       "        vertical-align: top;\n",
       "    }\n",
       "\n",
       "    .dataframe thead th {\n",
       "        text-align: right;\n",
       "    }\n",
       "</style>\n",
       "<table border=\"1\" class=\"dataframe\">\n",
       "  <thead>\n",
       "    <tr style=\"text-align: right;\">\n",
       "      <th></th>\n",
       "      <th>id_prod</th>\n",
       "      <th>date</th>\n",
       "      <th>session_id</th>\n",
       "      <th>client_id</th>\n",
       "    </tr>\n",
       "  </thead>\n",
       "  <tbody>\n",
       "    <tr>\n",
       "      <th>count</th>\n",
       "      <td>679532</td>\n",
       "      <td>679532</td>\n",
       "      <td>679532</td>\n",
       "      <td>679532</td>\n",
       "    </tr>\n",
       "    <tr>\n",
       "      <th>unique</th>\n",
       "      <td>3267</td>\n",
       "      <td>679371</td>\n",
       "      <td>342316</td>\n",
       "      <td>8602</td>\n",
       "    </tr>\n",
       "    <tr>\n",
       "      <th>top</th>\n",
       "      <td>1_369</td>\n",
       "      <td>test_2021-03-01 02:30:02.237413</td>\n",
       "      <td>s_0</td>\n",
       "      <td>c_1609</td>\n",
       "    </tr>\n",
       "    <tr>\n",
       "      <th>freq</th>\n",
       "      <td>2252</td>\n",
       "      <td>13</td>\n",
       "      <td>200</td>\n",
       "      <td>25488</td>\n",
       "    </tr>\n",
       "  </tbody>\n",
       "</table>\n",
       "</div>"
      ],
      "text/plain": [
       "       id_prod                             date session_id client_id\n",
       "count   679532                           679532     679532    679532\n",
       "unique    3267                           679371     342316      8602\n",
       "top      1_369  test_2021-03-01 02:30:02.237413        s_0    c_1609\n",
       "freq      2252                               13        200     25488"
      ]
     },
     "execution_count": 12,
     "metadata": {},
     "output_type": "execute_result"
    }
   ],
   "source": [
    "transactions.describe()"
   ]
  },
  {
   "cell_type": "code",
   "execution_count": 13,
   "id": "e6b81037",
   "metadata": {},
   "outputs": [
    {
     "name": "stdout",
     "output_type": "stream",
     "text": [
      "<class 'pandas.core.frame.DataFrame'>\n",
      "RangeIndex: 679532 entries, 0 to 679531\n",
      "Data columns (total 4 columns):\n",
      " #   Column      Non-Null Count   Dtype \n",
      "---  ------      --------------   ----- \n",
      " 0   id_prod     679532 non-null  object\n",
      " 1   date        679532 non-null  object\n",
      " 2   session_id  679532 non-null  object\n",
      " 3   client_id   679532 non-null  object\n",
      "dtypes: object(4)\n",
      "memory usage: 20.7+ MB\n"
     ]
    }
   ],
   "source": [
    "transactions.info()"
   ]
  },
  {
   "cell_type": "code",
   "execution_count": 14,
   "id": "64f58e90",
   "metadata": {
    "scrolled": true
   },
   "outputs": [
    {
     "data": {
      "text/html": [
       "<div>\n",
       "<style scoped>\n",
       "    .dataframe tbody tr th:only-of-type {\n",
       "        vertical-align: middle;\n",
       "    }\n",
       "\n",
       "    .dataframe tbody tr th {\n",
       "        vertical-align: top;\n",
       "    }\n",
       "\n",
       "    .dataframe thead th {\n",
       "        text-align: right;\n",
       "    }\n",
       "</style>\n",
       "<table border=\"1\" class=\"dataframe\">\n",
       "  <thead>\n",
       "    <tr style=\"text-align: right;\">\n",
       "      <th></th>\n",
       "      <th>id_prod</th>\n",
       "      <th>price</th>\n",
       "      <th>categ</th>\n",
       "    </tr>\n",
       "  </thead>\n",
       "  <tbody>\n",
       "    <tr>\n",
       "      <th>731</th>\n",
       "      <td>T_0</td>\n",
       "      <td>-1.0</td>\n",
       "      <td>0</td>\n",
       "    </tr>\n",
       "  </tbody>\n",
       "</table>\n",
       "</div>"
      ],
      "text/plain": [
       "    id_prod  price  categ\n",
       "731     T_0   -1.0      0"
      ]
     },
     "execution_count": 14,
     "metadata": {},
     "output_type": "execute_result"
    }
   ],
   "source": [
    "products[products['price']==-1]"
   ]
  },
  {
   "cell_type": "markdown",
   "id": "3c87fe0b",
   "metadata": {},
   "source": [
    "# <a name=\"C2\">2. Nettoyer le jeu de données</a>"
   ]
  },
  {
   "cell_type": "markdown",
   "id": "77fd20ea",
   "metadata": {},
   "source": [
    "### Vérifier correspondance des lignes qui contient TEST  avec id_pro == T_0"
   ]
  },
  {
   "cell_type": "code",
   "execution_count": 15,
   "id": "69ac826d",
   "metadata": {},
   "outputs": [
    {
     "data": {
      "text/plain": [
       "T_0    200\n",
       "Name: id_prod, dtype: int64"
      ]
     },
     "execution_count": 15,
     "metadata": {},
     "output_type": "execute_result"
    }
   ],
   "source": [
    "transactions[transactions.date.str.contains('test')].id_prod.value_counts()"
   ]
  },
  {
   "cell_type": "markdown",
   "id": "ea2ada51",
   "metadata": {},
   "source": [
    "### Créer le dataframe de \"transactions_mod\" et supprimer 200 lignes de date qui contient TEST"
   ]
  },
  {
   "cell_type": "code",
   "execution_count": 16,
   "id": "dcbe9772",
   "metadata": {
    "scrolled": false
   },
   "outputs": [
    {
     "data": {
      "text/html": [
       "<div>\n",
       "<style scoped>\n",
       "    .dataframe tbody tr th:only-of-type {\n",
       "        vertical-align: middle;\n",
       "    }\n",
       "\n",
       "    .dataframe tbody tr th {\n",
       "        vertical-align: top;\n",
       "    }\n",
       "\n",
       "    .dataframe thead th {\n",
       "        text-align: right;\n",
       "    }\n",
       "</style>\n",
       "<table border=\"1\" class=\"dataframe\">\n",
       "  <thead>\n",
       "    <tr style=\"text-align: right;\">\n",
       "      <th></th>\n",
       "      <th>id_prod</th>\n",
       "      <th>date</th>\n",
       "      <th>session_id</th>\n",
       "      <th>client_id</th>\n",
       "    </tr>\n",
       "  </thead>\n",
       "  <tbody>\n",
       "    <tr>\n",
       "      <th>0</th>\n",
       "      <td>0_1518</td>\n",
       "      <td>2022-05-20 13:21:29.043970</td>\n",
       "      <td>s_211425</td>\n",
       "      <td>c_103</td>\n",
       "    </tr>\n",
       "    <tr>\n",
       "      <th>1</th>\n",
       "      <td>1_251</td>\n",
       "      <td>2022-02-02 07:55:19.149409</td>\n",
       "      <td>s_158752</td>\n",
       "      <td>c_8534</td>\n",
       "    </tr>\n",
       "    <tr>\n",
       "      <th>2</th>\n",
       "      <td>0_1277</td>\n",
       "      <td>2022-06-18 15:44:33.155329</td>\n",
       "      <td>s_225667</td>\n",
       "      <td>c_6714</td>\n",
       "    </tr>\n",
       "    <tr>\n",
       "      <th>3</th>\n",
       "      <td>2_209</td>\n",
       "      <td>2021-06-24 04:19:29.835891</td>\n",
       "      <td>s_52962</td>\n",
       "      <td>c_6941</td>\n",
       "    </tr>\n",
       "    <tr>\n",
       "      <th>4</th>\n",
       "      <td>0_1509</td>\n",
       "      <td>2023-01-11 08:22:08.194479</td>\n",
       "      <td>s_325227</td>\n",
       "      <td>c_4232</td>\n",
       "    </tr>\n",
       "    <tr>\n",
       "      <th>...</th>\n",
       "      <td>...</td>\n",
       "      <td>...</td>\n",
       "      <td>...</td>\n",
       "      <td>...</td>\n",
       "    </tr>\n",
       "    <tr>\n",
       "      <th>679527</th>\n",
       "      <td>0_1551</td>\n",
       "      <td>2022-01-15 13:05:06.246925</td>\n",
       "      <td>s_150195</td>\n",
       "      <td>c_8489</td>\n",
       "    </tr>\n",
       "    <tr>\n",
       "      <th>679528</th>\n",
       "      <td>1_639</td>\n",
       "      <td>2022-03-19 16:03:23.429229</td>\n",
       "      <td>s_181434</td>\n",
       "      <td>c_4370</td>\n",
       "    </tr>\n",
       "    <tr>\n",
       "      <th>679529</th>\n",
       "      <td>0_1425</td>\n",
       "      <td>2022-12-20 04:33:37.584749</td>\n",
       "      <td>s_314704</td>\n",
       "      <td>c_304</td>\n",
       "    </tr>\n",
       "    <tr>\n",
       "      <th>679530</th>\n",
       "      <td>0_1994</td>\n",
       "      <td>2021-07-16 20:36:35.350579</td>\n",
       "      <td>s_63204</td>\n",
       "      <td>c_2227</td>\n",
       "    </tr>\n",
       "    <tr>\n",
       "      <th>679531</th>\n",
       "      <td>1_523</td>\n",
       "      <td>2022-09-28 01:12:01.973763</td>\n",
       "      <td>s_274568</td>\n",
       "      <td>c_3873</td>\n",
       "    </tr>\n",
       "  </tbody>\n",
       "</table>\n",
       "<p>679332 rows × 4 columns</p>\n",
       "</div>"
      ],
      "text/plain": [
       "       id_prod                        date session_id client_id\n",
       "0       0_1518  2022-05-20 13:21:29.043970   s_211425     c_103\n",
       "1        1_251  2022-02-02 07:55:19.149409   s_158752    c_8534\n",
       "2       0_1277  2022-06-18 15:44:33.155329   s_225667    c_6714\n",
       "3        2_209  2021-06-24 04:19:29.835891    s_52962    c_6941\n",
       "4       0_1509  2023-01-11 08:22:08.194479   s_325227    c_4232\n",
       "...        ...                         ...        ...       ...\n",
       "679527  0_1551  2022-01-15 13:05:06.246925   s_150195    c_8489\n",
       "679528   1_639  2022-03-19 16:03:23.429229   s_181434    c_4370\n",
       "679529  0_1425  2022-12-20 04:33:37.584749   s_314704     c_304\n",
       "679530  0_1994  2021-07-16 20:36:35.350579    s_63204    c_2227\n",
       "679531   1_523  2022-09-28 01:12:01.973763   s_274568    c_3873\n",
       "\n",
       "[679332 rows x 4 columns]"
      ]
     },
     "execution_count": 16,
     "metadata": {},
     "output_type": "execute_result"
    }
   ],
   "source": [
    "transactions_mod=transactions[transactions.date.str.contains('test')==False].copy()\n",
    "transactions_mod"
   ]
  },
  {
   "cell_type": "markdown",
   "id": "b0b1553f",
   "metadata": {},
   "source": [
    "### Changer la format de date"
   ]
  },
  {
   "cell_type": "code",
   "execution_count": 17,
   "id": "d08b2d64",
   "metadata": {
    "scrolled": true
   },
   "outputs": [],
   "source": [
    "transactions_mod['date'] = pd.to_datetime(transactions_mod['date'])"
   ]
  },
  {
   "cell_type": "markdown",
   "id": "06756fad",
   "metadata": {},
   "source": [
    "### Afficher les info de transactions_mod"
   ]
  },
  {
   "cell_type": "code",
   "execution_count": 18,
   "id": "278683cc",
   "metadata": {
    "scrolled": true
   },
   "outputs": [
    {
     "name": "stdout",
     "output_type": "stream",
     "text": [
      "<class 'pandas.core.frame.DataFrame'>\n",
      "Int64Index: 679332 entries, 0 to 679531\n",
      "Data columns (total 4 columns):\n",
      " #   Column      Non-Null Count   Dtype         \n",
      "---  ------      --------------   -----         \n",
      " 0   id_prod     679332 non-null  object        \n",
      " 1   date        679332 non-null  datetime64[ns]\n",
      " 2   session_id  679332 non-null  object        \n",
      " 3   client_id   679332 non-null  object        \n",
      "dtypes: datetime64[ns](1), object(3)\n",
      "memory usage: 25.9+ MB\n"
     ]
    }
   ],
   "source": [
    "transactions_mod.info()"
   ]
  },
  {
   "cell_type": "markdown",
   "id": "3ef54975",
   "metadata": {},
   "source": [
    "### Merger \"transactions_mod\" avec \"products\""
   ]
  },
  {
   "cell_type": "code",
   "execution_count": 19,
   "id": "544cd939",
   "metadata": {},
   "outputs": [],
   "source": [
    "trans_prod=pd.merge(transactions_mod, products, on='id_prod',how='outer', indicator=True)"
   ]
  },
  {
   "cell_type": "code",
   "execution_count": 20,
   "id": "1a68184a",
   "metadata": {
    "scrolled": true
   },
   "outputs": [
    {
     "data": {
      "text/html": [
       "<div>\n",
       "<style scoped>\n",
       "    .dataframe tbody tr th:only-of-type {\n",
       "        vertical-align: middle;\n",
       "    }\n",
       "\n",
       "    .dataframe tbody tr th {\n",
       "        vertical-align: top;\n",
       "    }\n",
       "\n",
       "    .dataframe thead th {\n",
       "        text-align: right;\n",
       "    }\n",
       "</style>\n",
       "<table border=\"1\" class=\"dataframe\">\n",
       "  <thead>\n",
       "    <tr style=\"text-align: right;\">\n",
       "      <th></th>\n",
       "      <th>id_prod</th>\n",
       "      <th>date</th>\n",
       "      <th>session_id</th>\n",
       "      <th>client_id</th>\n",
       "      <th>price</th>\n",
       "      <th>categ</th>\n",
       "      <th>_merge</th>\n",
       "    </tr>\n",
       "  </thead>\n",
       "  <tbody>\n",
       "    <tr>\n",
       "      <th>0</th>\n",
       "      <td>0_1518</td>\n",
       "      <td>2022-05-20 13:21:29.043970</td>\n",
       "      <td>s_211425</td>\n",
       "      <td>c_103</td>\n",
       "      <td>4.18</td>\n",
       "      <td>0.0</td>\n",
       "      <td>both</td>\n",
       "    </tr>\n",
       "    <tr>\n",
       "      <th>1</th>\n",
       "      <td>0_1518</td>\n",
       "      <td>2021-09-26 12:37:29.780414</td>\n",
       "      <td>s_95811</td>\n",
       "      <td>c_6197</td>\n",
       "      <td>4.18</td>\n",
       "      <td>0.0</td>\n",
       "      <td>both</td>\n",
       "    </tr>\n",
       "    <tr>\n",
       "      <th>2</th>\n",
       "      <td>0_1518</td>\n",
       "      <td>2021-05-06 17:14:43.117440</td>\n",
       "      <td>s_30782</td>\n",
       "      <td>c_682</td>\n",
       "      <td>4.18</td>\n",
       "      <td>0.0</td>\n",
       "      <td>both</td>\n",
       "    </tr>\n",
       "    <tr>\n",
       "      <th>3</th>\n",
       "      <td>0_1518</td>\n",
       "      <td>2022-03-16 18:57:10.420103</td>\n",
       "      <td>s_180057</td>\n",
       "      <td>c_5932</td>\n",
       "      <td>4.18</td>\n",
       "      <td>0.0</td>\n",
       "      <td>both</td>\n",
       "    </tr>\n",
       "    <tr>\n",
       "      <th>4</th>\n",
       "      <td>0_1518</td>\n",
       "      <td>2022-11-12 18:58:10.574853</td>\n",
       "      <td>s_296584</td>\n",
       "      <td>c_7217</td>\n",
       "      <td>4.18</td>\n",
       "      <td>0.0</td>\n",
       "      <td>both</td>\n",
       "    </tr>\n",
       "    <tr>\n",
       "      <th>...</th>\n",
       "      <td>...</td>\n",
       "      <td>...</td>\n",
       "      <td>...</td>\n",
       "      <td>...</td>\n",
       "      <td>...</td>\n",
       "      <td>...</td>\n",
       "      <td>...</td>\n",
       "    </tr>\n",
       "    <tr>\n",
       "      <th>679349</th>\n",
       "      <td>0_1624</td>\n",
       "      <td>NaT</td>\n",
       "      <td>NaN</td>\n",
       "      <td>NaN</td>\n",
       "      <td>24.50</td>\n",
       "      <td>0.0</td>\n",
       "      <td>right_only</td>\n",
       "    </tr>\n",
       "    <tr>\n",
       "      <th>679350</th>\n",
       "      <td>2_86</td>\n",
       "      <td>NaT</td>\n",
       "      <td>NaN</td>\n",
       "      <td>NaN</td>\n",
       "      <td>132.36</td>\n",
       "      <td>2.0</td>\n",
       "      <td>right_only</td>\n",
       "    </tr>\n",
       "    <tr>\n",
       "      <th>679351</th>\n",
       "      <td>0_299</td>\n",
       "      <td>NaT</td>\n",
       "      <td>NaN</td>\n",
       "      <td>NaN</td>\n",
       "      <td>22.99</td>\n",
       "      <td>0.0</td>\n",
       "      <td>right_only</td>\n",
       "    </tr>\n",
       "    <tr>\n",
       "      <th>679352</th>\n",
       "      <td>0_510</td>\n",
       "      <td>NaT</td>\n",
       "      <td>NaN</td>\n",
       "      <td>NaN</td>\n",
       "      <td>23.66</td>\n",
       "      <td>0.0</td>\n",
       "      <td>right_only</td>\n",
       "    </tr>\n",
       "    <tr>\n",
       "      <th>679353</th>\n",
       "      <td>0_2308</td>\n",
       "      <td>NaT</td>\n",
       "      <td>NaN</td>\n",
       "      <td>NaN</td>\n",
       "      <td>20.28</td>\n",
       "      <td>0.0</td>\n",
       "      <td>right_only</td>\n",
       "    </tr>\n",
       "  </tbody>\n",
       "</table>\n",
       "<p>679354 rows × 7 columns</p>\n",
       "</div>"
      ],
      "text/plain": [
       "       id_prod                       date session_id client_id   price  categ  \\\n",
       "0       0_1518 2022-05-20 13:21:29.043970   s_211425     c_103    4.18    0.0   \n",
       "1       0_1518 2021-09-26 12:37:29.780414    s_95811    c_6197    4.18    0.0   \n",
       "2       0_1518 2021-05-06 17:14:43.117440    s_30782     c_682    4.18    0.0   \n",
       "3       0_1518 2022-03-16 18:57:10.420103   s_180057    c_5932    4.18    0.0   \n",
       "4       0_1518 2022-11-12 18:58:10.574853   s_296584    c_7217    4.18    0.0   \n",
       "...        ...                        ...        ...       ...     ...    ...   \n",
       "679349  0_1624                        NaT        NaN       NaN   24.50    0.0   \n",
       "679350    2_86                        NaT        NaN       NaN  132.36    2.0   \n",
       "679351   0_299                        NaT        NaN       NaN   22.99    0.0   \n",
       "679352   0_510                        NaT        NaN       NaN   23.66    0.0   \n",
       "679353  0_2308                        NaT        NaN       NaN   20.28    0.0   \n",
       "\n",
       "            _merge  \n",
       "0             both  \n",
       "1             both  \n",
       "2             both  \n",
       "3             both  \n",
       "4             both  \n",
       "...            ...  \n",
       "679349  right_only  \n",
       "679350  right_only  \n",
       "679351  right_only  \n",
       "679352  right_only  \n",
       "679353  right_only  \n",
       "\n",
       "[679354 rows x 7 columns]"
      ]
     },
     "execution_count": 20,
     "metadata": {},
     "output_type": "execute_result"
    }
   ],
   "source": [
    "trans_prod"
   ]
  },
  {
   "cell_type": "markdown",
   "id": "12664af3",
   "metadata": {},
   "source": [
    "### Afficher _merge"
   ]
  },
  {
   "cell_type": "code",
   "execution_count": 21,
   "id": "c30cb593",
   "metadata": {
    "scrolled": true
   },
   "outputs": [
    {
     "data": {
      "text/plain": [
       "both          679111\n",
       "left_only        221\n",
       "right_only        22\n",
       "Name: _merge, dtype: int64"
      ]
     },
     "execution_count": 21,
     "metadata": {},
     "output_type": "execute_result"
    }
   ],
   "source": [
    "trans_prod._merge.value_counts()"
   ]
  },
  {
   "cell_type": "markdown",
   "id": "22609720",
   "metadata": {},
   "source": [
    "### Afficher left_only dans la  _merge"
   ]
  },
  {
   "cell_type": "code",
   "execution_count": 22,
   "id": "da81ff77",
   "metadata": {},
   "outputs": [
    {
     "data": {
      "text/html": [
       "<div>\n",
       "<style scoped>\n",
       "    .dataframe tbody tr th:only-of-type {\n",
       "        vertical-align: middle;\n",
       "    }\n",
       "\n",
       "    .dataframe tbody tr th {\n",
       "        vertical-align: top;\n",
       "    }\n",
       "\n",
       "    .dataframe thead th {\n",
       "        text-align: right;\n",
       "    }\n",
       "</style>\n",
       "<table border=\"1\" class=\"dataframe\">\n",
       "  <thead>\n",
       "    <tr style=\"text-align: right;\">\n",
       "      <th></th>\n",
       "      <th>id_prod</th>\n",
       "      <th>date</th>\n",
       "      <th>session_id</th>\n",
       "      <th>client_id</th>\n",
       "      <th>price</th>\n",
       "      <th>categ</th>\n",
       "      <th>_merge</th>\n",
       "    </tr>\n",
       "  </thead>\n",
       "  <tbody>\n",
       "    <tr>\n",
       "      <th>542560</th>\n",
       "      <td>0_2245</td>\n",
       "      <td>2022-09-23 07:22:38.636773</td>\n",
       "      <td>s_272266</td>\n",
       "      <td>c_4746</td>\n",
       "      <td>NaN</td>\n",
       "      <td>NaN</td>\n",
       "      <td>left_only</td>\n",
       "    </tr>\n",
       "    <tr>\n",
       "      <th>542561</th>\n",
       "      <td>0_2245</td>\n",
       "      <td>2022-07-23 09:24:14.133889</td>\n",
       "      <td>s_242482</td>\n",
       "      <td>c_6713</td>\n",
       "      <td>NaN</td>\n",
       "      <td>NaN</td>\n",
       "      <td>left_only</td>\n",
       "    </tr>\n",
       "    <tr>\n",
       "      <th>542562</th>\n",
       "      <td>0_2245</td>\n",
       "      <td>2022-12-03 03:26:35.696673</td>\n",
       "      <td>s_306338</td>\n",
       "      <td>c_5108</td>\n",
       "      <td>NaN</td>\n",
       "      <td>NaN</td>\n",
       "      <td>left_only</td>\n",
       "    </tr>\n",
       "    <tr>\n",
       "      <th>542563</th>\n",
       "      <td>0_2245</td>\n",
       "      <td>2021-08-16 11:33:25.481411</td>\n",
       "      <td>s_76493</td>\n",
       "      <td>c_1391</td>\n",
       "      <td>NaN</td>\n",
       "      <td>NaN</td>\n",
       "      <td>left_only</td>\n",
       "    </tr>\n",
       "    <tr>\n",
       "      <th>542564</th>\n",
       "      <td>0_2245</td>\n",
       "      <td>2022-07-16 05:53:01.627491</td>\n",
       "      <td>s_239078</td>\n",
       "      <td>c_7954</td>\n",
       "      <td>NaN</td>\n",
       "      <td>NaN</td>\n",
       "      <td>left_only</td>\n",
       "    </tr>\n",
       "    <tr>\n",
       "      <th>...</th>\n",
       "      <td>...</td>\n",
       "      <td>...</td>\n",
       "      <td>...</td>\n",
       "      <td>...</td>\n",
       "      <td>...</td>\n",
       "      <td>...</td>\n",
       "      <td>...</td>\n",
       "    </tr>\n",
       "    <tr>\n",
       "      <th>542776</th>\n",
       "      <td>0_2245</td>\n",
       "      <td>2021-08-25 09:06:03.504061</td>\n",
       "      <td>s_80395</td>\n",
       "      <td>c_131</td>\n",
       "      <td>NaN</td>\n",
       "      <td>NaN</td>\n",
       "      <td>left_only</td>\n",
       "    </tr>\n",
       "    <tr>\n",
       "      <th>542777</th>\n",
       "      <td>0_2245</td>\n",
       "      <td>2022-03-06 19:59:19.462288</td>\n",
       "      <td>s_175311</td>\n",
       "      <td>c_4167</td>\n",
       "      <td>NaN</td>\n",
       "      <td>NaN</td>\n",
       "      <td>left_only</td>\n",
       "    </tr>\n",
       "    <tr>\n",
       "      <th>542778</th>\n",
       "      <td>0_2245</td>\n",
       "      <td>2022-05-16 11:35:20.319501</td>\n",
       "      <td>s_209381</td>\n",
       "      <td>c_4453</td>\n",
       "      <td>NaN</td>\n",
       "      <td>NaN</td>\n",
       "      <td>left_only</td>\n",
       "    </tr>\n",
       "    <tr>\n",
       "      <th>542779</th>\n",
       "      <td>0_2245</td>\n",
       "      <td>2022-02-11 09:05:43.952857</td>\n",
       "      <td>s_163405</td>\n",
       "      <td>c_1098</td>\n",
       "      <td>NaN</td>\n",
       "      <td>NaN</td>\n",
       "      <td>left_only</td>\n",
       "    </tr>\n",
       "    <tr>\n",
       "      <th>542780</th>\n",
       "      <td>0_2245</td>\n",
       "      <td>2021-12-14 22:34:54.589921</td>\n",
       "      <td>s_134446</td>\n",
       "      <td>c_4854</td>\n",
       "      <td>NaN</td>\n",
       "      <td>NaN</td>\n",
       "      <td>left_only</td>\n",
       "    </tr>\n",
       "  </tbody>\n",
       "</table>\n",
       "<p>221 rows × 7 columns</p>\n",
       "</div>"
      ],
      "text/plain": [
       "       id_prod                       date session_id client_id  price  categ  \\\n",
       "542560  0_2245 2022-09-23 07:22:38.636773   s_272266    c_4746    NaN    NaN   \n",
       "542561  0_2245 2022-07-23 09:24:14.133889   s_242482    c_6713    NaN    NaN   \n",
       "542562  0_2245 2022-12-03 03:26:35.696673   s_306338    c_5108    NaN    NaN   \n",
       "542563  0_2245 2021-08-16 11:33:25.481411    s_76493    c_1391    NaN    NaN   \n",
       "542564  0_2245 2022-07-16 05:53:01.627491   s_239078    c_7954    NaN    NaN   \n",
       "...        ...                        ...        ...       ...    ...    ...   \n",
       "542776  0_2245 2021-08-25 09:06:03.504061    s_80395     c_131    NaN    NaN   \n",
       "542777  0_2245 2022-03-06 19:59:19.462288   s_175311    c_4167    NaN    NaN   \n",
       "542778  0_2245 2022-05-16 11:35:20.319501   s_209381    c_4453    NaN    NaN   \n",
       "542779  0_2245 2022-02-11 09:05:43.952857   s_163405    c_1098    NaN    NaN   \n",
       "542780  0_2245 2021-12-14 22:34:54.589921   s_134446    c_4854    NaN    NaN   \n",
       "\n",
       "           _merge  \n",
       "542560  left_only  \n",
       "542561  left_only  \n",
       "542562  left_only  \n",
       "542563  left_only  \n",
       "542564  left_only  \n",
       "...           ...  \n",
       "542776  left_only  \n",
       "542777  left_only  \n",
       "542778  left_only  \n",
       "542779  left_only  \n",
       "542780  left_only  \n",
       "\n",
       "[221 rows x 7 columns]"
      ]
     },
     "execution_count": 22,
     "metadata": {},
     "output_type": "execute_result"
    }
   ],
   "source": [
    "trans_prod[trans_prod['_merge']=='left_only']"
   ]
  },
  {
   "cell_type": "code",
   "execution_count": 23,
   "id": "fb9f9a73",
   "metadata": {},
   "outputs": [
    {
     "data": {
      "text/plain": [
       "0_2245    221\n",
       "Name: id_prod, dtype: int64"
      ]
     },
     "execution_count": 23,
     "metadata": {},
     "output_type": "execute_result"
    }
   ],
   "source": [
    "trans_prod[trans_prod['_merge']=='left_only'].id_prod.value_counts()"
   ]
  },
  {
   "cell_type": "markdown",
   "id": "d03129b6",
   "metadata": {},
   "source": []
  },
  {
   "cell_type": "markdown",
   "id": "2e105000",
   "metadata": {},
   "source": [
    "# <a name=\"C3\">3. Un zoom sur les références, les tops et les flops, la répartition par catégorie, etc. </a>\n"
   ]
  },
  {
   "cell_type": "markdown",
   "id": "775d0f2e",
   "metadata": {},
   "source": [
    "### Afficher boxplot de price par categ"
   ]
  },
  {
   "cell_type": "code",
   "execution_count": 24,
   "id": "a77c149e",
   "metadata": {},
   "outputs": [
    {
     "data": {
      "text/plain": [
       "<AxesSubplot:xlabel='categ', ylabel='price'>"
      ]
     },
     "execution_count": 24,
     "metadata": {},
     "output_type": "execute_result"
    },
    {
     "data": {
      "image/png": "[encoded data removed]",
      "text/plain": [
       "<Figure size 640x480 with 1 Axes>"
      ]
     },
     "metadata": {},
     "output_type": "display_data"
    }
   ],
   "source": [
    "sns.boxplot(data=products, x='categ', y='price')"
   ]
  },
  {
   "cell_type": "markdown",
   "id": "6099364f",
   "metadata": {},
   "source": [
    "### La moyenne de price par categ"
   ]
  },
  {
   "cell_type": "code",
   "execution_count": 25,
   "id": "ddf246df",
   "metadata": {},
   "outputs": [
    {
     "data": {
      "text/html": [
       "<div>\n",
       "<style scoped>\n",
       "    .dataframe tbody tr th:only-of-type {\n",
       "        vertical-align: middle;\n",
       "    }\n",
       "\n",
       "    .dataframe tbody tr th {\n",
       "        vertical-align: top;\n",
       "    }\n",
       "\n",
       "    .dataframe thead th {\n",
       "        text-align: right;\n",
       "    }\n",
       "</style>\n",
       "<table border=\"1\" class=\"dataframe\">\n",
       "  <thead>\n",
       "    <tr style=\"text-align: right;\">\n",
       "      <th></th>\n",
       "      <th>price</th>\n",
       "    </tr>\n",
       "    <tr>\n",
       "      <th>categ</th>\n",
       "      <th></th>\n",
       "    </tr>\n",
       "  </thead>\n",
       "  <tbody>\n",
       "    <tr>\n",
       "      <th>0</th>\n",
       "      <td>11.727280</td>\n",
       "    </tr>\n",
       "    <tr>\n",
       "      <th>1</th>\n",
       "      <td>25.531421</td>\n",
       "    </tr>\n",
       "    <tr>\n",
       "      <th>2</th>\n",
       "      <td>108.354686</td>\n",
       "    </tr>\n",
       "  </tbody>\n",
       "</table>\n",
       "</div>"
      ],
      "text/plain": [
       "            price\n",
       "categ            \n",
       "0       11.727280\n",
       "1       25.531421\n",
       "2      108.354686"
      ]
     },
     "execution_count": 25,
     "metadata": {},
     "output_type": "execute_result"
    }
   ],
   "source": [
    "products.groupby(by='categ')[[\"price\"]].mean()"
   ]
  },
  {
   "cell_type": "markdown",
   "id": "8ce4cf9b",
   "metadata": {},
   "source": [
    "### Remplacer le price par 11.727280 (la moyenne de categ 0)"
   ]
  },
  {
   "cell_type": "code",
   "execution_count": 26,
   "id": "1141ba7c",
   "metadata": {},
   "outputs": [
    {
     "data": {
      "text/html": [
       "<div>\n",
       "<style scoped>\n",
       "    .dataframe tbody tr th:only-of-type {\n",
       "        vertical-align: middle;\n",
       "    }\n",
       "\n",
       "    .dataframe tbody tr th {\n",
       "        vertical-align: top;\n",
       "    }\n",
       "\n",
       "    .dataframe thead th {\n",
       "        text-align: right;\n",
       "    }\n",
       "</style>\n",
       "<table border=\"1\" class=\"dataframe\">\n",
       "  <thead>\n",
       "    <tr style=\"text-align: right;\">\n",
       "      <th></th>\n",
       "      <th>id_prod</th>\n",
       "      <th>date</th>\n",
       "      <th>session_id</th>\n",
       "      <th>client_id</th>\n",
       "      <th>price</th>\n",
       "      <th>categ</th>\n",
       "      <th>_merge</th>\n",
       "    </tr>\n",
       "  </thead>\n",
       "  <tbody>\n",
       "    <tr>\n",
       "      <th>542560</th>\n",
       "      <td>0_2245</td>\n",
       "      <td>2022-09-23 07:22:38.636773</td>\n",
       "      <td>s_272266</td>\n",
       "      <td>c_4746</td>\n",
       "      <td>11.72728</td>\n",
       "      <td>NaN</td>\n",
       "      <td>left_only</td>\n",
       "    </tr>\n",
       "    <tr>\n",
       "      <th>542561</th>\n",
       "      <td>0_2245</td>\n",
       "      <td>2022-07-23 09:24:14.133889</td>\n",
       "      <td>s_242482</td>\n",
       "      <td>c_6713</td>\n",
       "      <td>11.72728</td>\n",
       "      <td>NaN</td>\n",
       "      <td>left_only</td>\n",
       "    </tr>\n",
       "    <tr>\n",
       "      <th>542562</th>\n",
       "      <td>0_2245</td>\n",
       "      <td>2022-12-03 03:26:35.696673</td>\n",
       "      <td>s_306338</td>\n",
       "      <td>c_5108</td>\n",
       "      <td>11.72728</td>\n",
       "      <td>NaN</td>\n",
       "      <td>left_only</td>\n",
       "    </tr>\n",
       "    <tr>\n",
       "      <th>542563</th>\n",
       "      <td>0_2245</td>\n",
       "      <td>2021-08-16 11:33:25.481411</td>\n",
       "      <td>s_76493</td>\n",
       "      <td>c_1391</td>\n",
       "      <td>11.72728</td>\n",
       "      <td>NaN</td>\n",
       "      <td>left_only</td>\n",
       "    </tr>\n",
       "    <tr>\n",
       "      <th>542564</th>\n",
       "      <td>0_2245</td>\n",
       "      <td>2022-07-16 05:53:01.627491</td>\n",
       "      <td>s_239078</td>\n",
       "      <td>c_7954</td>\n",
       "      <td>11.72728</td>\n",
       "      <td>NaN</td>\n",
       "      <td>left_only</td>\n",
       "    </tr>\n",
       "    <tr>\n",
       "      <th>...</th>\n",
       "      <td>...</td>\n",
       "      <td>...</td>\n",
       "      <td>...</td>\n",
       "      <td>...</td>\n",
       "      <td>...</td>\n",
       "      <td>...</td>\n",
       "      <td>...</td>\n",
       "    </tr>\n",
       "    <tr>\n",
       "      <th>542776</th>\n",
       "      <td>0_2245</td>\n",
       "      <td>2021-08-25 09:06:03.504061</td>\n",
       "      <td>s_80395</td>\n",
       "      <td>c_131</td>\n",
       "      <td>11.72728</td>\n",
       "      <td>NaN</td>\n",
       "      <td>left_only</td>\n",
       "    </tr>\n",
       "    <tr>\n",
       "      <th>542777</th>\n",
       "      <td>0_2245</td>\n",
       "      <td>2022-03-06 19:59:19.462288</td>\n",
       "      <td>s_175311</td>\n",
       "      <td>c_4167</td>\n",
       "      <td>11.72728</td>\n",
       "      <td>NaN</td>\n",
       "      <td>left_only</td>\n",
       "    </tr>\n",
       "    <tr>\n",
       "      <th>542778</th>\n",
       "      <td>0_2245</td>\n",
       "      <td>2022-05-16 11:35:20.319501</td>\n",
       "      <td>s_209381</td>\n",
       "      <td>c_4453</td>\n",
       "      <td>11.72728</td>\n",
       "      <td>NaN</td>\n",
       "      <td>left_only</td>\n",
       "    </tr>\n",
       "    <tr>\n",
       "      <th>542779</th>\n",
       "      <td>0_2245</td>\n",
       "      <td>2022-02-11 09:05:43.952857</td>\n",
       "      <td>s_163405</td>\n",
       "      <td>c_1098</td>\n",
       "      <td>11.72728</td>\n",
       "      <td>NaN</td>\n",
       "      <td>left_only</td>\n",
       "    </tr>\n",
       "    <tr>\n",
       "      <th>542780</th>\n",
       "      <td>0_2245</td>\n",
       "      <td>2021-12-14 22:34:54.589921</td>\n",
       "      <td>s_134446</td>\n",
       "      <td>c_4854</td>\n",
       "      <td>11.72728</td>\n",
       "      <td>NaN</td>\n",
       "      <td>left_only</td>\n",
       "    </tr>\n",
       "  </tbody>\n",
       "</table>\n",
       "<p>221 rows × 7 columns</p>\n",
       "</div>"
      ],
      "text/plain": [
       "       id_prod                       date session_id client_id     price  \\\n",
       "542560  0_2245 2022-09-23 07:22:38.636773   s_272266    c_4746  11.72728   \n",
       "542561  0_2245 2022-07-23 09:24:14.133889   s_242482    c_6713  11.72728   \n",
       "542562  0_2245 2022-12-03 03:26:35.696673   s_306338    c_5108  11.72728   \n",
       "542563  0_2245 2021-08-16 11:33:25.481411    s_76493    c_1391  11.72728   \n",
       "542564  0_2245 2022-07-16 05:53:01.627491   s_239078    c_7954  11.72728   \n",
       "...        ...                        ...        ...       ...       ...   \n",
       "542776  0_2245 2021-08-25 09:06:03.504061    s_80395     c_131  11.72728   \n",
       "542777  0_2245 2022-03-06 19:59:19.462288   s_175311    c_4167  11.72728   \n",
       "542778  0_2245 2022-05-16 11:35:20.319501   s_209381    c_4453  11.72728   \n",
       "542779  0_2245 2022-02-11 09:05:43.952857   s_163405    c_1098  11.72728   \n",
       "542780  0_2245 2021-12-14 22:34:54.589921   s_134446    c_4854  11.72728   \n",
       "\n",
       "        categ     _merge  \n",
       "542560    NaN  left_only  \n",
       "542561    NaN  left_only  \n",
       "542562    NaN  left_only  \n",
       "542563    NaN  left_only  \n",
       "542564    NaN  left_only  \n",
       "...       ...        ...  \n",
       "542776    NaN  left_only  \n",
       "542777    NaN  left_only  \n",
       "542778    NaN  left_only  \n",
       "542779    NaN  left_only  \n",
       "542780    NaN  left_only  \n",
       "\n",
       "[221 rows x 7 columns]"
      ]
     },
     "execution_count": 26,
     "metadata": {},
     "output_type": "execute_result"
    }
   ],
   "source": [
    "trans_prod.price.fillna(11.727280, inplace=True)\n",
    "trans_prod[trans_prod['_merge']=='left_only']"
   ]
  },
  {
   "cell_type": "markdown",
   "id": "8c187217",
   "metadata": {},
   "source": [
    "### Imputer le colonne de categ"
   ]
  },
  {
   "cell_type": "code",
   "execution_count": 27,
   "id": "2b87d05c",
   "metadata": {
    "scrolled": false
   },
   "outputs": [
    {
     "data": {
      "text/html": [
       "<div>\n",
       "<style scoped>\n",
       "    .dataframe tbody tr th:only-of-type {\n",
       "        vertical-align: middle;\n",
       "    }\n",
       "\n",
       "    .dataframe tbody tr th {\n",
       "        vertical-align: top;\n",
       "    }\n",
       "\n",
       "    .dataframe thead th {\n",
       "        text-align: right;\n",
       "    }\n",
       "</style>\n",
       "<table border=\"1\" class=\"dataframe\">\n",
       "  <thead>\n",
       "    <tr style=\"text-align: right;\">\n",
       "      <th></th>\n",
       "      <th>id_prod</th>\n",
       "      <th>date</th>\n",
       "      <th>session_id</th>\n",
       "      <th>client_id</th>\n",
       "      <th>price</th>\n",
       "      <th>categ</th>\n",
       "      <th>_merge</th>\n",
       "    </tr>\n",
       "  </thead>\n",
       "  <tbody>\n",
       "    <tr>\n",
       "      <th>542560</th>\n",
       "      <td>0_2245</td>\n",
       "      <td>2022-09-23 07:22:38.636773</td>\n",
       "      <td>s_272266</td>\n",
       "      <td>c_4746</td>\n",
       "      <td>11.72728</td>\n",
       "      <td>0.0</td>\n",
       "      <td>left_only</td>\n",
       "    </tr>\n",
       "    <tr>\n",
       "      <th>542561</th>\n",
       "      <td>0_2245</td>\n",
       "      <td>2022-07-23 09:24:14.133889</td>\n",
       "      <td>s_242482</td>\n",
       "      <td>c_6713</td>\n",
       "      <td>11.72728</td>\n",
       "      <td>0.0</td>\n",
       "      <td>left_only</td>\n",
       "    </tr>\n",
       "    <tr>\n",
       "      <th>542562</th>\n",
       "      <td>0_2245</td>\n",
       "      <td>2022-12-03 03:26:35.696673</td>\n",
       "      <td>s_306338</td>\n",
       "      <td>c_5108</td>\n",
       "      <td>11.72728</td>\n",
       "      <td>0.0</td>\n",
       "      <td>left_only</td>\n",
       "    </tr>\n",
       "    <tr>\n",
       "      <th>542563</th>\n",
       "      <td>0_2245</td>\n",
       "      <td>2021-08-16 11:33:25.481411</td>\n",
       "      <td>s_76493</td>\n",
       "      <td>c_1391</td>\n",
       "      <td>11.72728</td>\n",
       "      <td>0.0</td>\n",
       "      <td>left_only</td>\n",
       "    </tr>\n",
       "    <tr>\n",
       "      <th>542564</th>\n",
       "      <td>0_2245</td>\n",
       "      <td>2022-07-16 05:53:01.627491</td>\n",
       "      <td>s_239078</td>\n",
       "      <td>c_7954</td>\n",
       "      <td>11.72728</td>\n",
       "      <td>0.0</td>\n",
       "      <td>left_only</td>\n",
       "    </tr>\n",
       "    <tr>\n",
       "      <th>...</th>\n",
       "      <td>...</td>\n",
       "      <td>...</td>\n",
       "      <td>...</td>\n",
       "      <td>...</td>\n",
       "      <td>...</td>\n",
       "      <td>...</td>\n",
       "      <td>...</td>\n",
       "    </tr>\n",
       "    <tr>\n",
       "      <th>542776</th>\n",
       "      <td>0_2245</td>\n",
       "      <td>2021-08-25 09:06:03.504061</td>\n",
       "      <td>s_80395</td>\n",
       "      <td>c_131</td>\n",
       "      <td>11.72728</td>\n",
       "      <td>0.0</td>\n",
       "      <td>left_only</td>\n",
       "    </tr>\n",
       "    <tr>\n",
       "      <th>542777</th>\n",
       "      <td>0_2245</td>\n",
       "      <td>2022-03-06 19:59:19.462288</td>\n",
       "      <td>s_175311</td>\n",
       "      <td>c_4167</td>\n",
       "      <td>11.72728</td>\n",
       "      <td>0.0</td>\n",
       "      <td>left_only</td>\n",
       "    </tr>\n",
       "    <tr>\n",
       "      <th>542778</th>\n",
       "      <td>0_2245</td>\n",
       "      <td>2022-05-16 11:35:20.319501</td>\n",
       "      <td>s_209381</td>\n",
       "      <td>c_4453</td>\n",
       "      <td>11.72728</td>\n",
       "      <td>0.0</td>\n",
       "      <td>left_only</td>\n",
       "    </tr>\n",
       "    <tr>\n",
       "      <th>542779</th>\n",
       "      <td>0_2245</td>\n",
       "      <td>2022-02-11 09:05:43.952857</td>\n",
       "      <td>s_163405</td>\n",
       "      <td>c_1098</td>\n",
       "      <td>11.72728</td>\n",
       "      <td>0.0</td>\n",
       "      <td>left_only</td>\n",
       "    </tr>\n",
       "    <tr>\n",
       "      <th>542780</th>\n",
       "      <td>0_2245</td>\n",
       "      <td>2021-12-14 22:34:54.589921</td>\n",
       "      <td>s_134446</td>\n",
       "      <td>c_4854</td>\n",
       "      <td>11.72728</td>\n",
       "      <td>0.0</td>\n",
       "      <td>left_only</td>\n",
       "    </tr>\n",
       "  </tbody>\n",
       "</table>\n",
       "<p>221 rows × 7 columns</p>\n",
       "</div>"
      ],
      "text/plain": [
       "       id_prod                       date session_id client_id     price  \\\n",
       "542560  0_2245 2022-09-23 07:22:38.636773   s_272266    c_4746  11.72728   \n",
       "542561  0_2245 2022-07-23 09:24:14.133889   s_242482    c_6713  11.72728   \n",
       "542562  0_2245 2022-12-03 03:26:35.696673   s_306338    c_5108  11.72728   \n",
       "542563  0_2245 2021-08-16 11:33:25.481411    s_76493    c_1391  11.72728   \n",
       "542564  0_2245 2022-07-16 05:53:01.627491   s_239078    c_7954  11.72728   \n",
       "...        ...                        ...        ...       ...       ...   \n",
       "542776  0_2245 2021-08-25 09:06:03.504061    s_80395     c_131  11.72728   \n",
       "542777  0_2245 2022-03-06 19:59:19.462288   s_175311    c_4167  11.72728   \n",
       "542778  0_2245 2022-05-16 11:35:20.319501   s_209381    c_4453  11.72728   \n",
       "542779  0_2245 2022-02-11 09:05:43.952857   s_163405    c_1098  11.72728   \n",
       "542780  0_2245 2021-12-14 22:34:54.589921   s_134446    c_4854  11.72728   \n",
       "\n",
       "        categ     _merge  \n",
       "542560    0.0  left_only  \n",
       "542561    0.0  left_only  \n",
       "542562    0.0  left_only  \n",
       "542563    0.0  left_only  \n",
       "542564    0.0  left_only  \n",
       "...       ...        ...  \n",
       "542776    0.0  left_only  \n",
       "542777    0.0  left_only  \n",
       "542778    0.0  left_only  \n",
       "542779    0.0  left_only  \n",
       "542780    0.0  left_only  \n",
       "\n",
       "[221 rows x 7 columns]"
      ]
     },
     "execution_count": 27,
     "metadata": {},
     "output_type": "execute_result"
    }
   ],
   "source": [
    "trans_prod.categ.fillna(0, inplace=True)\n",
    "trans_prod[trans_prod['_merge']=='left_only']"
   ]
  },
  {
   "cell_type": "code",
   "execution_count": 28,
   "id": "c0d1b8ff",
   "metadata": {},
   "outputs": [
    {
     "data": {
      "text/plain": [
       "Int64Index([679332, 679333, 679334, 679335, 679336, 679337, 679338, 679339,\n",
       "            679340, 679341, 679342, 679343, 679344, 679345, 679346, 679347,\n",
       "            679348, 679349, 679350, 679351, 679352, 679353],\n",
       "           dtype='int64')"
      ]
     },
     "execution_count": 28,
     "metadata": {},
     "output_type": "execute_result"
    }
   ],
   "source": [
    "trans_prod[trans_prod['_merge']=='right_only'].index"
   ]
  },
  {
   "cell_type": "markdown",
   "id": "c5e0bbf7",
   "metadata": {},
   "source": [
    "### Supprimer les right_only"
   ]
  },
  {
   "cell_type": "code",
   "execution_count": 29,
   "id": "698c09cb",
   "metadata": {},
   "outputs": [],
   "source": [
    "trans_prod.drop(trans_prod[trans_prod['_merge']=='right_only'].index,axis=0, inplace=True)"
   ]
  },
  {
   "cell_type": "code",
   "execution_count": 30,
   "id": "91484609",
   "metadata": {},
   "outputs": [
    {
     "name": "stdout",
     "output_type": "stream",
     "text": [
      "<class 'pandas.core.frame.DataFrame'>\n",
      "Int64Index: 679332 entries, 0 to 679331\n",
      "Data columns (total 7 columns):\n",
      " #   Column      Non-Null Count   Dtype         \n",
      "---  ------      --------------   -----         \n",
      " 0   id_prod     679332 non-null  object        \n",
      " 1   date        679332 non-null  datetime64[ns]\n",
      " 2   session_id  679332 non-null  object        \n",
      " 3   client_id   679332 non-null  object        \n",
      " 4   price       679332 non-null  float64       \n",
      " 5   categ       679332 non-null  float64       \n",
      " 6   _merge      679332 non-null  category      \n",
      "dtypes: category(1), datetime64[ns](1), float64(2), object(3)\n",
      "memory usage: 36.9+ MB\n"
     ]
    }
   ],
   "source": [
    "trans_prod.info()"
   ]
  },
  {
   "cell_type": "code",
   "execution_count": 31,
   "id": "c664ae12",
   "metadata": {},
   "outputs": [
    {
     "data": {
      "text/plain": [
       "both          679111\n",
       "left_only        221\n",
       "right_only         0\n",
       "Name: _merge, dtype: int64"
      ]
     },
     "execution_count": 31,
     "metadata": {},
     "output_type": "execute_result"
    }
   ],
   "source": [
    "trans_prod._merge.value_counts()"
   ]
  },
  {
   "cell_type": "markdown",
   "id": "3717c913",
   "metadata": {},
   "source": [
    "### Supprimer _merge"
   ]
  },
  {
   "cell_type": "code",
   "execution_count": 32,
   "id": "5ca7348e",
   "metadata": {},
   "outputs": [],
   "source": [
    "trans_prod.drop('_merge', axis=1, inplace=True)"
   ]
  },
  {
   "cell_type": "markdown",
   "id": "b14a4133",
   "metadata": {},
   "source": [
    "### Afficher les doublonns"
   ]
  },
  {
   "cell_type": "code",
   "execution_count": 33,
   "id": "a87f7628",
   "metadata": {},
   "outputs": [
    {
     "data": {
      "text/plain": [
       "0"
      ]
     },
     "execution_count": 33,
     "metadata": {},
     "output_type": "execute_result"
    }
   ],
   "source": [
    "trans_prod.duplicated().sum()"
   ]
  },
  {
   "cell_type": "code",
   "execution_count": 34,
   "id": "bbc3f7cd",
   "metadata": {},
   "outputs": [
    {
     "data": {
      "text/plain": [
       "679332"
      ]
     },
     "execution_count": 34,
     "metadata": {},
     "output_type": "execute_result"
    }
   ],
   "source": [
    "trans_prod.date.nunique()"
   ]
  },
  {
   "cell_type": "markdown",
   "id": "8ee676ea",
   "metadata": {},
   "source": [
    "### Merger trans_prod avec customers"
   ]
  },
  {
   "cell_type": "code",
   "execution_count": 35,
   "id": "3af16c83",
   "metadata": {
    "scrolled": true
   },
   "outputs": [
    {
     "data": {
      "text/html": [
       "<div>\n",
       "<style scoped>\n",
       "    .dataframe tbody tr th:only-of-type {\n",
       "        vertical-align: middle;\n",
       "    }\n",
       "\n",
       "    .dataframe tbody tr th {\n",
       "        vertical-align: top;\n",
       "    }\n",
       "\n",
       "    .dataframe thead th {\n",
       "        text-align: right;\n",
       "    }\n",
       "</style>\n",
       "<table border=\"1\" class=\"dataframe\">\n",
       "  <thead>\n",
       "    <tr style=\"text-align: right;\">\n",
       "      <th></th>\n",
       "      <th>id_prod</th>\n",
       "      <th>date</th>\n",
       "      <th>session_id</th>\n",
       "      <th>client_id</th>\n",
       "      <th>price</th>\n",
       "      <th>categ</th>\n",
       "      <th>sex</th>\n",
       "      <th>birth</th>\n",
       "      <th>_merge</th>\n",
       "    </tr>\n",
       "  </thead>\n",
       "  <tbody>\n",
       "    <tr>\n",
       "      <th>0</th>\n",
       "      <td>0_1518</td>\n",
       "      <td>2022-05-20 13:21:29.043970</td>\n",
       "      <td>s_211425</td>\n",
       "      <td>c_103</td>\n",
       "      <td>4.18</td>\n",
       "      <td>0.0</td>\n",
       "      <td>f</td>\n",
       "      <td>1986</td>\n",
       "      <td>both</td>\n",
       "    </tr>\n",
       "    <tr>\n",
       "      <th>1</th>\n",
       "      <td>0_1518</td>\n",
       "      <td>2021-07-20 13:21:29.043970</td>\n",
       "      <td>s_64849</td>\n",
       "      <td>c_103</td>\n",
       "      <td>4.18</td>\n",
       "      <td>0.0</td>\n",
       "      <td>f</td>\n",
       "      <td>1986</td>\n",
       "      <td>both</td>\n",
       "    </tr>\n",
       "    <tr>\n",
       "      <th>2</th>\n",
       "      <td>0_1518</td>\n",
       "      <td>2022-08-20 13:21:29.043970</td>\n",
       "      <td>s_255965</td>\n",
       "      <td>c_103</td>\n",
       "      <td>4.18</td>\n",
       "      <td>0.0</td>\n",
       "      <td>f</td>\n",
       "      <td>1986</td>\n",
       "      <td>both</td>\n",
       "    </tr>\n",
       "    <tr>\n",
       "      <th>3</th>\n",
       "      <td>0_1418</td>\n",
       "      <td>2022-06-18 01:49:37.823274</td>\n",
       "      <td>s_225411</td>\n",
       "      <td>c_103</td>\n",
       "      <td>8.57</td>\n",
       "      <td>0.0</td>\n",
       "      <td>f</td>\n",
       "      <td>1986</td>\n",
       "      <td>both</td>\n",
       "    </tr>\n",
       "    <tr>\n",
       "      <th>4</th>\n",
       "      <td>0_1418</td>\n",
       "      <td>2021-08-18 01:49:37.823274</td>\n",
       "      <td>s_77214</td>\n",
       "      <td>c_103</td>\n",
       "      <td>8.57</td>\n",
       "      <td>0.0</td>\n",
       "      <td>f</td>\n",
       "      <td>1986</td>\n",
       "      <td>both</td>\n",
       "    </tr>\n",
       "    <tr>\n",
       "      <th>...</th>\n",
       "      <td>...</td>\n",
       "      <td>...</td>\n",
       "      <td>...</td>\n",
       "      <td>...</td>\n",
       "      <td>...</td>\n",
       "      <td>...</td>\n",
       "      <td>...</td>\n",
       "      <td>...</td>\n",
       "      <td>...</td>\n",
       "    </tr>\n",
       "    <tr>\n",
       "      <th>679350</th>\n",
       "      <td>NaN</td>\n",
       "      <td>NaT</td>\n",
       "      <td>NaN</td>\n",
       "      <td>c_7584</td>\n",
       "      <td>NaN</td>\n",
       "      <td>NaN</td>\n",
       "      <td>f</td>\n",
       "      <td>1960</td>\n",
       "      <td>right_only</td>\n",
       "    </tr>\n",
       "    <tr>\n",
       "      <th>679351</th>\n",
       "      <td>NaN</td>\n",
       "      <td>NaT</td>\n",
       "      <td>NaN</td>\n",
       "      <td>c_90</td>\n",
       "      <td>NaN</td>\n",
       "      <td>NaN</td>\n",
       "      <td>m</td>\n",
       "      <td>2001</td>\n",
       "      <td>right_only</td>\n",
       "    </tr>\n",
       "    <tr>\n",
       "      <th>679352</th>\n",
       "      <td>NaN</td>\n",
       "      <td>NaT</td>\n",
       "      <td>NaN</td>\n",
       "      <td>c_587</td>\n",
       "      <td>NaN</td>\n",
       "      <td>NaN</td>\n",
       "      <td>m</td>\n",
       "      <td>1993</td>\n",
       "      <td>right_only</td>\n",
       "    </tr>\n",
       "    <tr>\n",
       "      <th>679353</th>\n",
       "      <td>NaN</td>\n",
       "      <td>NaT</td>\n",
       "      <td>NaN</td>\n",
       "      <td>ct_1</td>\n",
       "      <td>NaN</td>\n",
       "      <td>NaN</td>\n",
       "      <td>m</td>\n",
       "      <td>2001</td>\n",
       "      <td>right_only</td>\n",
       "    </tr>\n",
       "    <tr>\n",
       "      <th>679354</th>\n",
       "      <td>NaN</td>\n",
       "      <td>NaT</td>\n",
       "      <td>NaN</td>\n",
       "      <td>c_3526</td>\n",
       "      <td>NaN</td>\n",
       "      <td>NaN</td>\n",
       "      <td>m</td>\n",
       "      <td>1956</td>\n",
       "      <td>right_only</td>\n",
       "    </tr>\n",
       "  </tbody>\n",
       "</table>\n",
       "<p>679355 rows × 9 columns</p>\n",
       "</div>"
      ],
      "text/plain": [
       "       id_prod                       date session_id client_id  price  categ  \\\n",
       "0       0_1518 2022-05-20 13:21:29.043970   s_211425     c_103   4.18    0.0   \n",
       "1       0_1518 2021-07-20 13:21:29.043970    s_64849     c_103   4.18    0.0   \n",
       "2       0_1518 2022-08-20 13:21:29.043970   s_255965     c_103   4.18    0.0   \n",
       "3       0_1418 2022-06-18 01:49:37.823274   s_225411     c_103   8.57    0.0   \n",
       "4       0_1418 2021-08-18 01:49:37.823274    s_77214     c_103   8.57    0.0   \n",
       "...        ...                        ...        ...       ...    ...    ...   \n",
       "679350     NaN                        NaT        NaN    c_7584    NaN    NaN   \n",
       "679351     NaN                        NaT        NaN      c_90    NaN    NaN   \n",
       "679352     NaN                        NaT        NaN     c_587    NaN    NaN   \n",
       "679353     NaN                        NaT        NaN      ct_1    NaN    NaN   \n",
       "679354     NaN                        NaT        NaN    c_3526    NaN    NaN   \n",
       "\n",
       "       sex  birth      _merge  \n",
       "0        f   1986        both  \n",
       "1        f   1986        both  \n",
       "2        f   1986        both  \n",
       "3        f   1986        both  \n",
       "4        f   1986        both  \n",
       "...     ..    ...         ...  \n",
       "679350   f   1960  right_only  \n",
       "679351   m   2001  right_only  \n",
       "679352   m   1993  right_only  \n",
       "679353   m   2001  right_only  \n",
       "679354   m   1956  right_only  \n",
       "\n",
       "[679355 rows x 9 columns]"
      ]
     },
     "execution_count": 35,
     "metadata": {},
     "output_type": "execute_result"
    }
   ],
   "source": [
    "trans_prod_cli=pd.merge(trans_prod,customers, on='client_id', how='outer', indicator=True)\n",
    "trans_prod_cli"
   ]
  },
  {
   "cell_type": "markdown",
   "id": "00f6e928",
   "metadata": {},
   "source": [
    "### Afficher le _merge"
   ]
  },
  {
   "cell_type": "code",
   "execution_count": 36,
   "id": "2b00ec6e",
   "metadata": {},
   "outputs": [
    {
     "data": {
      "text/plain": [
       "both          679332\n",
       "right_only        23\n",
       "left_only          0\n",
       "Name: _merge, dtype: int64"
      ]
     },
     "execution_count": 36,
     "metadata": {},
     "output_type": "execute_result"
    }
   ],
   "source": [
    "trans_prod_cli._merge.value_counts()"
   ]
  },
  {
   "cell_type": "code",
   "execution_count": 37,
   "id": "b56026ec",
   "metadata": {
    "scrolled": true
   },
   "outputs": [],
   "source": [
    "trans_prod_cli.drop(trans_prod_cli[trans_prod_cli['_merge']=='right_only'].index,axis=0, inplace=True)"
   ]
  },
  {
   "cell_type": "code",
   "execution_count": 38,
   "id": "22126886",
   "metadata": {},
   "outputs": [
    {
     "data": {
      "text/plain": [
       "both          679332\n",
       "left_only          0\n",
       "right_only         0\n",
       "Name: _merge, dtype: int64"
      ]
     },
     "execution_count": 38,
     "metadata": {},
     "output_type": "execute_result"
    }
   ],
   "source": [
    "trans_prod_cli._merge.value_counts()"
   ]
  },
  {
   "cell_type": "markdown",
   "id": "58afbda2",
   "metadata": {},
   "source": [
    "### Supprimer _merge, right_only dans la table de trans_prod_cli"
   ]
  },
  {
   "cell_type": "code",
   "execution_count": 39,
   "id": "b3771150",
   "metadata": {},
   "outputs": [],
   "source": [
    "trans_prod_cli.drop('_merge', axis=1, inplace=True)"
   ]
  },
  {
   "cell_type": "markdown",
   "id": "f7a876de",
   "metadata": {},
   "source": [
    "### Afficher les infos dans la table de trans_prod_cli"
   ]
  },
  {
   "cell_type": "code",
   "execution_count": 40,
   "id": "37ec5763",
   "metadata": {
    "scrolled": false
   },
   "outputs": [
    {
     "name": "stdout",
     "output_type": "stream",
     "text": [
      "<class 'pandas.core.frame.DataFrame'>\n",
      "Int64Index: 679332 entries, 0 to 679331\n",
      "Data columns (total 8 columns):\n",
      " #   Column      Non-Null Count   Dtype         \n",
      "---  ------      --------------   -----         \n",
      " 0   id_prod     679332 non-null  object        \n",
      " 1   date        679332 non-null  datetime64[ns]\n",
      " 2   session_id  679332 non-null  object        \n",
      " 3   client_id   679332 non-null  object        \n",
      " 4   price       679332 non-null  float64       \n",
      " 5   categ       679332 non-null  float64       \n",
      " 6   sex         679332 non-null  object        \n",
      " 7   birth       679332 non-null  int64         \n",
      "dtypes: datetime64[ns](1), float64(2), int64(1), object(4)\n",
      "memory usage: 46.6+ MB\n"
     ]
    }
   ],
   "source": [
    "trans_prod_cli.info()"
   ]
  },
  {
   "cell_type": "markdown",
   "id": "b89bfb22",
   "metadata": {},
   "source": [
    "# <a name=\"C4\">4. Différents indicateurs et graphiques autour du CA </a>"
   ]
  },
  {
   "cell_type": "markdown",
   "id": "88c4c836",
   "metadata": {},
   "source": [
    "### CA par client"
   ]
  },
  {
   "cell_type": "code",
   "execution_count": 41,
   "id": "ac494d97",
   "metadata": {
    "scrolled": false
   },
   "outputs": [
    {
     "data": {
      "text/html": [
       "<div>\n",
       "<style scoped>\n",
       "    .dataframe tbody tr th:only-of-type {\n",
       "        vertical-align: middle;\n",
       "    }\n",
       "\n",
       "    .dataframe tbody tr th {\n",
       "        vertical-align: top;\n",
       "    }\n",
       "\n",
       "    .dataframe thead th {\n",
       "        text-align: right;\n",
       "    }\n",
       "</style>\n",
       "<table border=\"1\" class=\"dataframe\">\n",
       "  <thead>\n",
       "    <tr style=\"text-align: right;\">\n",
       "      <th></th>\n",
       "      <th>price</th>\n",
       "    </tr>\n",
       "    <tr>\n",
       "      <th>client_id</th>\n",
       "      <th></th>\n",
       "    </tr>\n",
       "  </thead>\n",
       "  <tbody>\n",
       "    <tr>\n",
       "      <th>c_1609</th>\n",
       "      <td>324033.35000</td>\n",
       "    </tr>\n",
       "    <tr>\n",
       "      <th>c_4958</th>\n",
       "      <td>289760.34000</td>\n",
       "    </tr>\n",
       "    <tr>\n",
       "      <th>c_6714</th>\n",
       "      <td>153669.28368</td>\n",
       "    </tr>\n",
       "    <tr>\n",
       "      <th>c_3454</th>\n",
       "      <td>113673.11184</td>\n",
       "    </tr>\n",
       "    <tr>\n",
       "      <th>c_3263</th>\n",
       "      <td>5276.87000</td>\n",
       "    </tr>\n",
       "    <tr>\n",
       "      <th>c_1570</th>\n",
       "      <td>5271.62000</td>\n",
       "    </tr>\n",
       "    <tr>\n",
       "      <th>c_2899</th>\n",
       "      <td>5214.05000</td>\n",
       "    </tr>\n",
       "    <tr>\n",
       "      <th>c_2140</th>\n",
       "      <td>5208.82000</td>\n",
       "    </tr>\n",
       "    <tr>\n",
       "      <th>c_7319</th>\n",
       "      <td>5155.77000</td>\n",
       "    </tr>\n",
       "    <tr>\n",
       "      <th>c_8026</th>\n",
       "      <td>5094.30728</td>\n",
       "    </tr>\n",
       "  </tbody>\n",
       "</table>\n",
       "</div>"
      ],
      "text/plain": [
       "                  price\n",
       "client_id              \n",
       "c_1609     324033.35000\n",
       "c_4958     289760.34000\n",
       "c_6714     153669.28368\n",
       "c_3454     113673.11184\n",
       "c_3263       5276.87000\n",
       "c_1570       5271.62000\n",
       "c_2899       5214.05000\n",
       "c_2140       5208.82000\n",
       "c_7319       5155.77000\n",
       "c_8026       5094.30728"
      ]
     },
     "execution_count": 41,
     "metadata": {},
     "output_type": "execute_result"
    }
   ],
   "source": [
    "CA_Client= trans_prod_cli.groupby(by='client_id')[[\"price\"]].sum()\n",
    "CA_Client.sort_values(by='price', ascending=False).head(10)"
   ]
  },
  {
   "cell_type": "code",
   "execution_count": 42,
   "id": "44bac9f0",
   "metadata": {},
   "outputs": [
    {
     "data": {
      "text/plain": [
       "array([ 558.18, 1353.6 ,  254.85, ..., 1490.01, 2779.88,  701.4 ])"
      ]
     },
     "execution_count": 42,
     "metadata": {},
     "output_type": "execute_result"
    }
   ],
   "source": [
    "dep = CA_Client.price.values\n",
    "dep"
   ]
  },
  {
   "cell_type": "markdown",
   "id": "e1d97e51",
   "metadata": {},
   "source": []
  },
  {
   "cell_type": "code",
   "execution_count": null,
   "id": "cc476829",
   "metadata": {},
   "outputs": [],
   "source": []
  },
  {
   "cell_type": "markdown",
   "id": "cf6d9fed",
   "metadata": {},
   "source": [
    "### CA par produit"
   ]
  },
  {
   "cell_type": "code",
   "execution_count": 43,
   "id": "6f2d2b90",
   "metadata": {},
   "outputs": [
    {
     "data": {
      "text/html": [
       "<div>\n",
       "<style scoped>\n",
       "    .dataframe tbody tr th:only-of-type {\n",
       "        vertical-align: middle;\n",
       "    }\n",
       "\n",
       "    .dataframe tbody tr th {\n",
       "        vertical-align: top;\n",
       "    }\n",
       "\n",
       "    .dataframe thead th {\n",
       "        text-align: right;\n",
       "    }\n",
       "</style>\n",
       "<table border=\"1\" class=\"dataframe\">\n",
       "  <thead>\n",
       "    <tr style=\"text-align: right;\">\n",
       "      <th></th>\n",
       "      <th>price</th>\n",
       "    </tr>\n",
       "    <tr>\n",
       "      <th>id_prod</th>\n",
       "      <th></th>\n",
       "    </tr>\n",
       "  </thead>\n",
       "  <tbody>\n",
       "    <tr>\n",
       "      <th>0_0</th>\n",
       "      <td>4657.50</td>\n",
       "    </tr>\n",
       "    <tr>\n",
       "      <th>0_1</th>\n",
       "      <td>5352.13</td>\n",
       "    </tr>\n",
       "    <tr>\n",
       "      <th>0_10</th>\n",
       "      <td>394.90</td>\n",
       "    </tr>\n",
       "    <tr>\n",
       "      <th>0_100</th>\n",
       "      <td>61.80</td>\n",
       "    </tr>\n",
       "    <tr>\n",
       "      <th>0_1000</th>\n",
       "      <td>2954.88</td>\n",
       "    </tr>\n",
       "  </tbody>\n",
       "</table>\n",
       "</div>"
      ],
      "text/plain": [
       "           price\n",
       "id_prod         \n",
       "0_0      4657.50\n",
       "0_1      5352.13\n",
       "0_10      394.90\n",
       "0_100      61.80\n",
       "0_1000   2954.88"
      ]
     },
     "execution_count": 43,
     "metadata": {},
     "output_type": "execute_result"
    }
   ],
   "source": [
    "CA_Prod=trans_prod_cli.groupby(by='id_prod')[[\"price\"]].sum()\n",
    "CA_Prod.head()"
   ]
  },
  {
   "cell_type": "markdown",
   "id": "dea2ebc5",
   "metadata": {},
   "source": [
    "### CA mensuel par produit"
   ]
  },
  {
   "cell_type": "code",
   "execution_count": 44,
   "id": "0312d208",
   "metadata": {},
   "outputs": [
    {
     "data": {
      "text/html": [
       "<div>\n",
       "<style scoped>\n",
       "    .dataframe tbody tr th:only-of-type {\n",
       "        vertical-align: middle;\n",
       "    }\n",
       "\n",
       "    .dataframe tbody tr th {\n",
       "        vertical-align: top;\n",
       "    }\n",
       "\n",
       "    .dataframe thead th {\n",
       "        text-align: right;\n",
       "    }\n",
       "</style>\n",
       "<table border=\"1\" class=\"dataframe\">\n",
       "  <thead>\n",
       "    <tr style=\"text-align: right;\">\n",
       "      <th></th>\n",
       "      <th>price</th>\n",
       "    </tr>\n",
       "    <tr>\n",
       "      <th>date</th>\n",
       "      <th></th>\n",
       "    </tr>\n",
       "  </thead>\n",
       "  <tbody>\n",
       "    <tr>\n",
       "      <th>2021-03-31</th>\n",
       "      <td>482546.15552</td>\n",
       "    </tr>\n",
       "    <tr>\n",
       "      <th>2021-04-30</th>\n",
       "      <td>476273.48192</td>\n",
       "    </tr>\n",
       "    <tr>\n",
       "      <th>2021-05-31</th>\n",
       "      <td>493037.28824</td>\n",
       "    </tr>\n",
       "    <tr>\n",
       "      <th>2021-06-30</th>\n",
       "      <td>484170.65096</td>\n",
       "    </tr>\n",
       "    <tr>\n",
       "      <th>2021-07-31</th>\n",
       "      <td>482882.30912</td>\n",
       "    </tr>\n",
       "  </tbody>\n",
       "</table>\n",
       "</div>"
      ],
      "text/plain": [
       "                   price\n",
       "date                    \n",
       "2021-03-31  482546.15552\n",
       "2021-04-30  476273.48192\n",
       "2021-05-31  493037.28824\n",
       "2021-06-30  484170.65096\n",
       "2021-07-31  482882.30912"
      ]
     },
     "execution_count": 44,
     "metadata": {},
     "output_type": "execute_result"
    }
   ],
   "source": [
    "CA_Mens=trans_prod_cli[['date','price']].set_index(\"date\").resample(\"M\").sum()\n",
    "CA_Mens.head()"
   ]
  },
  {
   "cell_type": "markdown",
   "id": "ae1e221f",
   "metadata": {},
   "source": [
    "   ### Visualier le CA mensuel "
   ]
  },
  {
   "cell_type": "code",
   "execution_count": 45,
   "id": "9ccab76b",
   "metadata": {},
   "outputs": [
    {
     "data": {
      "text/plain": [
       "<AxesSubplot:xlabel='date', ylabel='price'>"
      ]
     },
     "execution_count": 45,
     "metadata": {},
     "output_type": "execute_result"
    },
    {
     "data": {
      "image/png": "[encoded data removed]",
      "text/plain": [
       "<Figure size 640x480 with 1 Axes>"
      ]
     },
     "metadata": {},
     "output_type": "display_data"
    }
   ],
   "source": [
    "sns.lineplot(data=CA_Mens, x='date', y='price')"
   ]
  },
  {
   "cell_type": "markdown",
   "id": "45eec1b6",
   "metadata": {},
   "source": [
    "### "
   ]
  },
  {
   "cell_type": "markdown",
   "id": "6c2018e5",
   "metadata": {},
   "source": [
    "### Agréger  \"date\", \"categ\" et \"price\" par date (mensuellement) et categ"
   ]
  },
  {
   "cell_type": "code",
   "execution_count": 46,
   "id": "b62d153e",
   "metadata": {
    "scrolled": true
   },
   "outputs": [
    {
     "data": {
      "text/html": [
       "<div>\n",
       "<style scoped>\n",
       "    .dataframe tbody tr th:only-of-type {\n",
       "        vertical-align: middle;\n",
       "    }\n",
       "\n",
       "    .dataframe tbody tr th {\n",
       "        vertical-align: top;\n",
       "    }\n",
       "\n",
       "    .dataframe thead th {\n",
       "        text-align: right;\n",
       "    }\n",
       "</style>\n",
       "<table border=\"1\" class=\"dataframe\">\n",
       "  <thead>\n",
       "    <tr style=\"text-align: right;\">\n",
       "      <th></th>\n",
       "      <th></th>\n",
       "      <th>price</th>\n",
       "    </tr>\n",
       "    <tr>\n",
       "      <th>date</th>\n",
       "      <th>categ</th>\n",
       "      <th></th>\n",
       "    </tr>\n",
       "  </thead>\n",
       "  <tbody>\n",
       "    <tr>\n",
       "      <th rowspan=\"3\" valign=\"top\">2021-03-31</th>\n",
       "      <th>0.0</th>\n",
       "      <td>193734.71552</td>\n",
       "    </tr>\n",
       "    <tr>\n",
       "      <th>1.0</th>\n",
       "      <td>186974.17000</td>\n",
       "    </tr>\n",
       "    <tr>\n",
       "      <th>2.0</th>\n",
       "      <td>101837.27000</td>\n",
       "    </tr>\n",
       "    <tr>\n",
       "      <th rowspan=\"3\" valign=\"top\">2021-04-30</th>\n",
       "      <th>0.0</th>\n",
       "      <td>205386.64192</td>\n",
       "    </tr>\n",
       "    <tr>\n",
       "      <th>1.0</th>\n",
       "      <td>156138.35000</td>\n",
       "    </tr>\n",
       "    <tr>\n",
       "      <th>2.0</th>\n",
       "      <td>114748.49000</td>\n",
       "    </tr>\n",
       "    <tr>\n",
       "      <th rowspan=\"3\" valign=\"top\">2021-05-31</th>\n",
       "      <th>0.0</th>\n",
       "      <td>196280.53824</td>\n",
       "    </tr>\n",
       "    <tr>\n",
       "      <th>1.0</th>\n",
       "      <td>165893.40000</td>\n",
       "    </tr>\n",
       "    <tr>\n",
       "      <th>2.0</th>\n",
       "      <td>130863.35000</td>\n",
       "    </tr>\n",
       "  </tbody>\n",
       "</table>\n",
       "</div>"
      ],
      "text/plain": [
       "                         price\n",
       "date       categ              \n",
       "2021-03-31 0.0    193734.71552\n",
       "           1.0    186974.17000\n",
       "           2.0    101837.27000\n",
       "2021-04-30 0.0    205386.64192\n",
       "           1.0    156138.35000\n",
       "           2.0    114748.49000\n",
       "2021-05-31 0.0    196280.53824\n",
       "           1.0    165893.40000\n",
       "           2.0    130863.35000"
      ]
     },
     "execution_count": 46,
     "metadata": {},
     "output_type": "execute_result"
    }
   ],
   "source": [
    "CAdc = trans_prod_cli[['categ','date','price']].groupby([pd.Grouper(key='date', freq='M'), 'categ']).sum()\n",
    "CAdc.head(9)"
   ]
  },
  {
   "cell_type": "markdown",
   "id": "48ac3025",
   "metadata": {},
   "source": [
    "   ### Visualiser le CA par catégorie"
   ]
  },
  {
   "cell_type": "code",
   "execution_count": 47,
   "id": "208f9873",
   "metadata": {},
   "outputs": [
    {
     "data": {
      "text/plain": [
       "<AxesSubplot:xlabel='date', ylabel='price'>"
      ]
     },
     "execution_count": 47,
     "metadata": {},
     "output_type": "execute_result"
    },
    {
     "data": {
      "image/png": "[encoded data removed]",
      "text/plain": [
       "<Figure size 640x480 with 1 Axes>"
      ]
     },
     "metadata": {},
     "output_type": "display_data"
    }
   ],
   "source": [
    "sns.lineplot(data=CAdc, x='date', y='price', hue='categ')"
   ]
  },
  {
   "cell_type": "markdown",
   "id": "dd970f41",
   "metadata": {},
   "source": [
    "## <a name=\"C5\">5. L’évolution dans le temps - moyenne mobile</a>"
   ]
  },
  {
   "cell_type": "markdown",
   "id": "f0b73140",
   "metadata": {},
   "source": [
    "### Afficher la moyenne mobile de CA mensuel"
   ]
  },
  {
   "cell_type": "code",
   "execution_count": 48,
   "id": "8d929ccd",
   "metadata": {},
   "outputs": [
    {
     "data": {
      "text/html": [
       "<div>\n",
       "<style scoped>\n",
       "    .dataframe tbody tr th:only-of-type {\n",
       "        vertical-align: middle;\n",
       "    }\n",
       "\n",
       "    .dataframe tbody tr th {\n",
       "        vertical-align: top;\n",
       "    }\n",
       "\n",
       "    .dataframe thead th {\n",
       "        text-align: right;\n",
       "    }\n",
       "</style>\n",
       "<table border=\"1\" class=\"dataframe\">\n",
       "  <thead>\n",
       "    <tr style=\"text-align: right;\">\n",
       "      <th></th>\n",
       "      <th>price</th>\n",
       "    </tr>\n",
       "    <tr>\n",
       "      <th>date</th>\n",
       "      <th></th>\n",
       "    </tr>\n",
       "  </thead>\n",
       "  <tbody>\n",
       "    <tr>\n",
       "      <th>2021-03-31</th>\n",
       "      <td>NaN</td>\n",
       "    </tr>\n",
       "    <tr>\n",
       "      <th>2021-04-30</th>\n",
       "      <td>NaN</td>\n",
       "    </tr>\n",
       "    <tr>\n",
       "      <th>2021-05-31</th>\n",
       "      <td>483952.308560</td>\n",
       "    </tr>\n",
       "    <tr>\n",
       "      <th>2021-06-30</th>\n",
       "      <td>484493.807040</td>\n",
       "    </tr>\n",
       "    <tr>\n",
       "      <th>2021-07-31</th>\n",
       "      <td>486696.749440</td>\n",
       "    </tr>\n",
       "    <tr>\n",
       "      <th>2021-08-31</th>\n",
       "      <td>483147.765200</td>\n",
       "    </tr>\n",
       "    <tr>\n",
       "      <th>2021-09-30</th>\n",
       "      <td>490884.684000</td>\n",
       "    </tr>\n",
       "    <tr>\n",
       "      <th>2021-10-31</th>\n",
       "      <td>436884.191280</td>\n",
       "    </tr>\n",
       "    <tr>\n",
       "      <th>2021-11-30</th>\n",
       "      <td>448182.413707</td>\n",
       "    </tr>\n",
       "    <tr>\n",
       "      <th>2021-12-31</th>\n",
       "      <td>454388.401573</td>\n",
       "    </tr>\n",
       "  </tbody>\n",
       "</table>\n",
       "</div>"
      ],
      "text/plain": [
       "                    price\n",
       "date                     \n",
       "2021-03-31            NaN\n",
       "2021-04-30            NaN\n",
       "2021-05-31  483952.308560\n",
       "2021-06-30  484493.807040\n",
       "2021-07-31  486696.749440\n",
       "2021-08-31  483147.765200\n",
       "2021-09-30  490884.684000\n",
       "2021-10-31  436884.191280\n",
       "2021-11-30  448182.413707\n",
       "2021-12-31  454388.401573"
      ]
     },
     "execution_count": 48,
     "metadata": {},
     "output_type": "execute_result"
    }
   ],
   "source": [
    "CA_MM=CA_Mens.rolling(3).mean()\n",
    "CA_MM.head(10)"
   ]
  },
  {
   "cell_type": "markdown",
   "id": "e1217266",
   "metadata": {},
   "source": [
    "### Visualiser le CA mensuel"
   ]
  },
  {
   "cell_type": "code",
   "execution_count": 49,
   "id": "f670f1de",
   "metadata": {
    "scrolled": true
   },
   "outputs": [
    {
     "data": {
      "text/plain": [
       "<AxesSubplot:xlabel='date', ylabel='price'>"
      ]
     },
     "execution_count": 49,
     "metadata": {},
     "output_type": "execute_result"
    },
    {
     "data": {
      "image/png": "[encoded data removed]",
      "text/plain": [
       "<Figure size 640x480 with 1 Axes>"
      ]
     },
     "metadata": {},
     "output_type": "display_data"
    }
   ],
   "source": [
    "sns.lineplot(data=CA_MM, x='date', y='price')"
   ]
  },
  {
   "cell_type": "markdown",
   "id": "c8ff3144",
   "metadata": {},
   "source": [
    "Le CA s'évolue par rapport la saison, nous pouvons voir que pendant l'été le CA baisse et courant l'hiver il augmente. Par conséquent nous pouvons constater la notion de saisonnalité. "
   ]
  },
  {
   "cell_type": "markdown",
   "id": "a3a1793d",
   "metadata": {},
   "source": [
    "# <a name=\"C6\">6. Quelques Informations sur les profils de nos clients </a> "
   ]
  },
  {
   "cell_type": "code",
   "execution_count": 50,
   "id": "d85005f1",
   "metadata": {},
   "outputs": [],
   "source": [
    "bins = [0, 20, 40, 60, 80, np.inf]\n",
    "names = ['<21', '21-40', '41-60', '61-80', '81+']\n"
   ]
  },
  {
   "cell_type": "code",
   "execution_count": 51,
   "id": "41304871",
   "metadata": {},
   "outputs": [
    {
     "data": {
      "text/html": [
       "<div>\n",
       "<style scoped>\n",
       "    .dataframe tbody tr th:only-of-type {\n",
       "        vertical-align: middle;\n",
       "    }\n",
       "\n",
       "    .dataframe tbody tr th {\n",
       "        vertical-align: top;\n",
       "    }\n",
       "\n",
       "    .dataframe thead th {\n",
       "        text-align: right;\n",
       "    }\n",
       "</style>\n",
       "<table border=\"1\" class=\"dataframe\">\n",
       "  <thead>\n",
       "    <tr style=\"text-align: right;\">\n",
       "      <th></th>\n",
       "      <th>id_prod</th>\n",
       "      <th>date</th>\n",
       "      <th>session_id</th>\n",
       "      <th>client_id</th>\n",
       "      <th>price</th>\n",
       "      <th>categ</th>\n",
       "      <th>sex</th>\n",
       "      <th>birth</th>\n",
       "      <th>age</th>\n",
       "    </tr>\n",
       "  </thead>\n",
       "  <tbody>\n",
       "    <tr>\n",
       "      <th>0</th>\n",
       "      <td>0_1518</td>\n",
       "      <td>2022-05-20 13:21:29.043970</td>\n",
       "      <td>s_211425</td>\n",
       "      <td>c_103</td>\n",
       "      <td>4.18</td>\n",
       "      <td>0.0</td>\n",
       "      <td>f</td>\n",
       "      <td>1986</td>\n",
       "      <td>37</td>\n",
       "    </tr>\n",
       "    <tr>\n",
       "      <th>1</th>\n",
       "      <td>0_1518</td>\n",
       "      <td>2021-07-20 13:21:29.043970</td>\n",
       "      <td>s_64849</td>\n",
       "      <td>c_103</td>\n",
       "      <td>4.18</td>\n",
       "      <td>0.0</td>\n",
       "      <td>f</td>\n",
       "      <td>1986</td>\n",
       "      <td>37</td>\n",
       "    </tr>\n",
       "    <tr>\n",
       "      <th>2</th>\n",
       "      <td>0_1518</td>\n",
       "      <td>2022-08-20 13:21:29.043970</td>\n",
       "      <td>s_255965</td>\n",
       "      <td>c_103</td>\n",
       "      <td>4.18</td>\n",
       "      <td>0.0</td>\n",
       "      <td>f</td>\n",
       "      <td>1986</td>\n",
       "      <td>37</td>\n",
       "    </tr>\n",
       "    <tr>\n",
       "      <th>3</th>\n",
       "      <td>0_1418</td>\n",
       "      <td>2022-06-18 01:49:37.823274</td>\n",
       "      <td>s_225411</td>\n",
       "      <td>c_103</td>\n",
       "      <td>8.57</td>\n",
       "      <td>0.0</td>\n",
       "      <td>f</td>\n",
       "      <td>1986</td>\n",
       "      <td>37</td>\n",
       "    </tr>\n",
       "    <tr>\n",
       "      <th>4</th>\n",
       "      <td>0_1418</td>\n",
       "      <td>2021-08-18 01:49:37.823274</td>\n",
       "      <td>s_77214</td>\n",
       "      <td>c_103</td>\n",
       "      <td>8.57</td>\n",
       "      <td>0.0</td>\n",
       "      <td>f</td>\n",
       "      <td>1986</td>\n",
       "      <td>37</td>\n",
       "    </tr>\n",
       "    <tr>\n",
       "      <th>...</th>\n",
       "      <td>...</td>\n",
       "      <td>...</td>\n",
       "      <td>...</td>\n",
       "      <td>...</td>\n",
       "      <td>...</td>\n",
       "      <td>...</td>\n",
       "      <td>...</td>\n",
       "      <td>...</td>\n",
       "      <td>...</td>\n",
       "    </tr>\n",
       "    <tr>\n",
       "      <th>679327</th>\n",
       "      <td>2_147</td>\n",
       "      <td>2021-07-23 07:01:38.963669</td>\n",
       "      <td>s_65994</td>\n",
       "      <td>c_4391</td>\n",
       "      <td>181.99</td>\n",
       "      <td>2.0</td>\n",
       "      <td>f</td>\n",
       "      <td>2001</td>\n",
       "      <td>22</td>\n",
       "    </tr>\n",
       "    <tr>\n",
       "      <th>679328</th>\n",
       "      <td>0_142</td>\n",
       "      <td>2022-03-25 18:07:25.880052</td>\n",
       "      <td>s_184472</td>\n",
       "      <td>c_1232</td>\n",
       "      <td>19.85</td>\n",
       "      <td>0.0</td>\n",
       "      <td>f</td>\n",
       "      <td>1960</td>\n",
       "      <td>63</td>\n",
       "    </tr>\n",
       "    <tr>\n",
       "      <th>679329</th>\n",
       "      <td>0_142</td>\n",
       "      <td>2021-09-25 18:07:25.880052</td>\n",
       "      <td>s_95415</td>\n",
       "      <td>c_1232</td>\n",
       "      <td>19.85</td>\n",
       "      <td>0.0</td>\n",
       "      <td>f</td>\n",
       "      <td>1960</td>\n",
       "      <td>63</td>\n",
       "    </tr>\n",
       "    <tr>\n",
       "      <th>679330</th>\n",
       "      <td>2_205</td>\n",
       "      <td>2021-03-11 00:11:32.016264</td>\n",
       "      <td>s_4605</td>\n",
       "      <td>c_7534</td>\n",
       "      <td>100.99</td>\n",
       "      <td>2.0</td>\n",
       "      <td>m</td>\n",
       "      <td>1992</td>\n",
       "      <td>31</td>\n",
       "    </tr>\n",
       "    <tr>\n",
       "      <th>679331</th>\n",
       "      <td>2_205</td>\n",
       "      <td>2022-07-11 00:11:32.016264</td>\n",
       "      <td>s_236636</td>\n",
       "      <td>c_7534</td>\n",
       "      <td>100.99</td>\n",
       "      <td>2.0</td>\n",
       "      <td>m</td>\n",
       "      <td>1992</td>\n",
       "      <td>31</td>\n",
       "    </tr>\n",
       "  </tbody>\n",
       "</table>\n",
       "<p>679332 rows × 9 columns</p>\n",
       "</div>"
      ],
      "text/plain": [
       "       id_prod                       date session_id client_id   price  categ  \\\n",
       "0       0_1518 2022-05-20 13:21:29.043970   s_211425     c_103    4.18    0.0   \n",
       "1       0_1518 2021-07-20 13:21:29.043970    s_64849     c_103    4.18    0.0   \n",
       "2       0_1518 2022-08-20 13:21:29.043970   s_255965     c_103    4.18    0.0   \n",
       "3       0_1418 2022-06-18 01:49:37.823274   s_225411     c_103    8.57    0.0   \n",
       "4       0_1418 2021-08-18 01:49:37.823274    s_77214     c_103    8.57    0.0   \n",
       "...        ...                        ...        ...       ...     ...    ...   \n",
       "679327   2_147 2021-07-23 07:01:38.963669    s_65994    c_4391  181.99    2.0   \n",
       "679328   0_142 2022-03-25 18:07:25.880052   s_184472    c_1232   19.85    0.0   \n",
       "679329   0_142 2021-09-25 18:07:25.880052    s_95415    c_1232   19.85    0.0   \n",
       "679330   2_205 2021-03-11 00:11:32.016264     s_4605    c_7534  100.99    2.0   \n",
       "679331   2_205 2022-07-11 00:11:32.016264   s_236636    c_7534  100.99    2.0   \n",
       "\n",
       "       sex  birth  age  \n",
       "0        f   1986   37  \n",
       "1        f   1986   37  \n",
       "2        f   1986   37  \n",
       "3        f   1986   37  \n",
       "4        f   1986   37  \n",
       "...     ..    ...  ...  \n",
       "679327   f   2001   22  \n",
       "679328   f   1960   63  \n",
       "679329   f   1960   63  \n",
       "679330   m   1992   31  \n",
       "679331   m   1992   31  \n",
       "\n",
       "[679332 rows x 9 columns]"
      ]
     },
     "execution_count": 51,
     "metadata": {},
     "output_type": "execute_result"
    }
   ],
   "source": [
    "# ajouter le colonne d'age dans la table de trans_prod_cli\n",
    "trans_prod_cli['age']=2023-trans_prod_cli['birth']\n",
    "trans_prod_cli"
   ]
  },
  {
   "cell_type": "markdown",
   "id": "aa8e8656",
   "metadata": {},
   "source": [
    "### Ajouter le colonne d'age"
   ]
  },
  {
   "cell_type": "code",
   "execution_count": 52,
   "id": "24026c16",
   "metadata": {},
   "outputs": [
    {
     "data": {
      "text/plain": [
       "41-60    333686\n",
       "21-40    235965\n",
       "61-80     78478\n",
       "<21       19520\n",
       "81+       11683\n",
       "Name: AgeRange, dtype: int64"
      ]
     },
     "execution_count": 52,
     "metadata": {},
     "output_type": "execute_result"
    }
   ],
   "source": [
    "trans_prod_cli['AgeRange'] = pd.cut(trans_prod_cli['age'], bins, labels=names)\n",
    "trans_prod_cli.AgeRange.value_counts()"
   ]
  },
  {
   "cell_type": "markdown",
   "id": "64a9ea33",
   "metadata": {},
   "source": [
    "### Calculer  CA par tranche d'age"
   ]
  },
  {
   "cell_type": "code",
   "execution_count": 53,
   "id": "d448265f",
   "metadata": {},
   "outputs": [
    {
     "data": {
      "text/html": [
       "<div>\n",
       "<style scoped>\n",
       "    .dataframe tbody tr th:only-of-type {\n",
       "        vertical-align: middle;\n",
       "    }\n",
       "\n",
       "    .dataframe tbody tr th {\n",
       "        vertical-align: top;\n",
       "    }\n",
       "\n",
       "    .dataframe thead th {\n",
       "        text-align: right;\n",
       "    }\n",
       "</style>\n",
       "<table border=\"1\" class=\"dataframe\">\n",
       "  <thead>\n",
       "    <tr style=\"text-align: right;\">\n",
       "      <th></th>\n",
       "      <th>price</th>\n",
       "    </tr>\n",
       "    <tr>\n",
       "      <th>AgeRange</th>\n",
       "      <th></th>\n",
       "    </tr>\n",
       "  </thead>\n",
       "  <tbody>\n",
       "    <tr>\n",
       "      <th>&lt;21</th>\n",
       "      <td>7.872095e+05</td>\n",
       "    </tr>\n",
       "    <tr>\n",
       "      <th>21-40</th>\n",
       "      <td>4.830435e+06</td>\n",
       "    </tr>\n",
       "    <tr>\n",
       "      <th>41-60</th>\n",
       "      <td>4.727929e+06</td>\n",
       "    </tr>\n",
       "    <tr>\n",
       "      <th>61-80</th>\n",
       "      <td>1.314293e+06</td>\n",
       "    </tr>\n",
       "    <tr>\n",
       "      <th>81+</th>\n",
       "      <td>1.964542e+05</td>\n",
       "    </tr>\n",
       "  </tbody>\n",
       "</table>\n",
       "</div>"
      ],
      "text/plain": [
       "                 price\n",
       "AgeRange              \n",
       "<21       7.872095e+05\n",
       "21-40     4.830435e+06\n",
       "41-60     4.727929e+06\n",
       "61-80     1.314293e+06\n",
       "81+       1.964542e+05"
      ]
     },
     "execution_count": 53,
     "metadata": {},
     "output_type": "execute_result"
    }
   ],
   "source": [
    "CA_TrancheAge=trans_prod_cli[['AgeRange','price']].groupby(by='AgeRange').sum('price')\n",
    "CA_TrancheAge"
   ]
  },
  {
   "cell_type": "code",
   "execution_count": 54,
   "id": "d4306db8",
   "metadata": {},
   "outputs": [
    {
     "data": {
      "text/plain": [
       "([<matplotlib.patches.Wedge at 0x28882b37f70>,\n",
       "  <matplotlib.patches.Wedge at 0x28882b466d0>,\n",
       "  <matplotlib.patches.Wedge at 0x28882b46df0>,\n",
       "  <matplotlib.patches.Wedge at 0x28882b52550>,\n",
       "  <matplotlib.patches.Wedge at 0x28882b52c70>],\n",
       " [Text(1.0761566101350957, 0.2277870726414033, '<21'),\n",
       "  Text(-0.13857228934183147, 1.0912367848576972, '21-40'),\n",
       "  Text(-0.5104764050221666, -0.9743786943050659, '41-60'),\n",
       "  Text(0.9893594825041186, -0.48079914140853336, '61-80'),\n",
       "  Text(1.0985099719633873, -0.05723496743248879, '81+')],\n",
       " [Text(0.586994514619143, 0.12424749416803815, '7%'),\n",
       "  Text(-0.07558488509554444, 0.5952200644678347, '41%'),\n",
       "  Text(-0.2784416754666363, -0.5314792878027631, '40%'),\n",
       "  Text(0.5396506268204283, -0.2622540771319273, '11%'),\n",
       "  Text(0.5991872574345748, -0.031219073144993885, '2%')])"
      ]
     },
     "execution_count": 54,
     "metadata": {},
     "output_type": "execute_result"
    },
    {
     "data": {
      "image/png": "[encoded data removed]",
      "text/plain": [
       "<Figure size 640x480 with 1 Axes>"
      ]
     },
     "metadata": {},
     "output_type": "display_data"
    }
   ],
   "source": [
    "plt.pie(data=CA_TrancheAge, x=\"price\", labels=CA_TrancheAge.index,  autopct='%.0f%%')"
   ]
  },
  {
   "cell_type": "markdown",
   "id": "364e7e6a",
   "metadata": {},
   "source": [
    "81% de CA est réalisé par les clients âge entre 21 et 60 ans"
   ]
  },
  {
   "cell_type": "markdown",
   "id": "592aebb8",
   "metadata": {},
   "source": [
    "### CA par sexe"
   ]
  },
  {
   "cell_type": "code",
   "execution_count": 55,
   "id": "644c4c92",
   "metadata": {},
   "outputs": [
    {
     "data": {
      "text/html": [
       "<div>\n",
       "<style scoped>\n",
       "    .dataframe tbody tr th:only-of-type {\n",
       "        vertical-align: middle;\n",
       "    }\n",
       "\n",
       "    .dataframe tbody tr th {\n",
       "        vertical-align: top;\n",
       "    }\n",
       "\n",
       "    .dataframe thead th {\n",
       "        text-align: right;\n",
       "    }\n",
       "</style>\n",
       "<table border=\"1\" class=\"dataframe\">\n",
       "  <thead>\n",
       "    <tr style=\"text-align: right;\">\n",
       "      <th></th>\n",
       "      <th>price</th>\n",
       "    </tr>\n",
       "    <tr>\n",
       "      <th>sex</th>\n",
       "      <th></th>\n",
       "    </tr>\n",
       "  </thead>\n",
       "  <tbody>\n",
       "    <tr>\n",
       "      <th>f</th>\n",
       "      <td>5.861055e+06</td>\n",
       "    </tr>\n",
       "    <tr>\n",
       "      <th>m</th>\n",
       "      <td>5.995265e+06</td>\n",
       "    </tr>\n",
       "  </tbody>\n",
       "</table>\n",
       "</div>"
      ],
      "text/plain": [
       "            price\n",
       "sex              \n",
       "f    5.861055e+06\n",
       "m    5.995265e+06"
      ]
     },
     "execution_count": 55,
     "metadata": {},
     "output_type": "execute_result"
    }
   ],
   "source": [
    "CA_sex=trans_prod_cli[['sex','price']].groupby(by='sex').sum('price')\n",
    "CA_sex"
   ]
  },
  {
   "cell_type": "code",
   "execution_count": 56,
   "id": "714f75cc",
   "metadata": {},
   "outputs": [
    {
     "data": {
      "text/plain": [
       "([<matplotlib.patches.Wedge at 0x28882e03d30>,\n",
       "  <matplotlib.patches.Wedge at 0x28882e12490>],\n",
       " [Text(0.019558001527555827, 1.0998261156093032, 'f'),\n",
       "  Text(-0.019557898554403392, -1.0998261174404507, 'm')],\n",
       " [Text(0.010668000833212269, 0.5999051539687107, '49%'),\n",
       "  Text(-0.010667944666038213, -0.5999051549675184, '51%')])"
      ]
     },
     "execution_count": 56,
     "metadata": {},
     "output_type": "execute_result"
    },
    {
     "data": {
      "image/png": "[encoded data removed]",
      "text/plain": [
       "<Figure size 640x480 with 1 Axes>"
      ]
     },
     "metadata": {},
     "output_type": "display_data"
    }
   ],
   "source": [
    "plt.pie(data=CA_sex, x=\"price\", labels=CA_sex.index,  autopct='%.0f%%')"
   ]
  },
  {
   "cell_type": "markdown",
   "id": "f5ac262f",
   "metadata": {},
   "source": []
  },
  {
   "cell_type": "markdown",
   "id": "2a78899b",
   "metadata": {},
   "source": [
    "# <a name=\"C7\">7. La répartition du chiffre d'affaires entre les clients : une courbe de Lorenz</a> "
   ]
  },
  {
   "cell_type": "markdown",
   "id": "b6006322",
   "metadata": {},
   "source": [
    "### Inégalités de CA entre tous les clients"
   ]
  },
  {
   "cell_type": "code",
   "execution_count": 57,
   "id": "7c174c1b",
   "metadata": {
    "scrolled": false
   },
   "outputs": [
    {
     "data": {
      "image/png": "[encoded data removed]",
      "text/plain": [
       "<Figure size 640x480 with 1 Axes>"
      ]
     },
     "metadata": {},
     "output_type": "display_data"
    }
   ],
   "source": [
    "dep =CA_Client.price.values\n",
    "n = len(dep)\n",
    "\n",
    "lorenz = np.cumsum(np.sort(dep)) / dep.sum()\n",
    "lorenz = np.append([0],lorenz) \n",
    "xaxis = np.linspace(0-1/n,1+1/n,n+1) \n",
    "\n",
    "plt.plot(xaxis,xaxis, \"--\")\n",
    "plt.plot(xaxis,lorenz,drawstyle='steps-post')\n",
    "plt.show()\n"
   ]
  },
  {
   "cell_type": "markdown",
   "id": "828be8dc",
   "metadata": {},
   "source": [
    "### Calculer l'indice de GINI"
   ]
  },
  {
   "cell_type": "markdown",
   "id": "043d1acb",
   "metadata": {},
   "source": [
    "L'indice de Gini mesure ici l'inégalité des chiffres d'affaires de tous les clients.\n",
    "\n",
    "Indice de Gini : chiffre de 0 à 1 mesurant l'aire entre la bissectrice et la courbe de Lorenz\n",
    "\n",
    "un coefficient de 0 indiquerait une égalité parfaite (tous les points s'aligneraient alors sur la bissectrice, réduisant l'aire à 0)\n",
    "si l'indice était de 1, un seul client détiendrait la totalité du chiffre d'affaires (l'aire serait égale à celle du triangle prenant la bissectrice comme côté et 1:1 comme angle opposé)"
   ]
  },
  {
   "cell_type": "code",
   "execution_count": 58,
   "id": "498b8202",
   "metadata": {},
   "outputs": [
    {
     "data": {
      "text/plain": [
       "0.44639658303540086"
      ]
     },
     "execution_count": 58,
     "metadata": {},
     "output_type": "execute_result"
    }
   ],
   "source": [
    "AUC = (lorenz.sum() -lorenz[-1]/2 -lorenz[0]/2)/n # Surface sous la courbe de Lorenz. Le premier segment (lorenz[0]) est à moitié en dessous de 0, on le coupe donc en 2, on fait de même pour le dernier segment lorenz[-1] qui est à moitié au dessus de 1.\n",
    "S = 0.5 - AUC # surface entre la première bissectrice et le courbe de Lorenz\n",
    "gini = 2*S\n",
    "gini"
   ]
  },
  {
   "cell_type": "markdown",
   "id": "f0230cbf",
   "metadata": {},
   "source": [
    "## <a name=\"C8\">8. Le lien entre l’âge des clients et la fréquence d’achat</a>"
   ]
  },
  {
   "cell_type": "code",
   "execution_count": 59,
   "id": "7dd30854",
   "metadata": {
    "scrolled": false
   },
   "outputs": [
    {
     "data": {
      "text/html": [
       "<div>\n",
       "<style scoped>\n",
       "    .dataframe tbody tr th:only-of-type {\n",
       "        vertical-align: middle;\n",
       "    }\n",
       "\n",
       "    .dataframe tbody tr th {\n",
       "        vertical-align: top;\n",
       "    }\n",
       "\n",
       "    .dataframe thead th {\n",
       "        text-align: right;\n",
       "    }\n",
       "</style>\n",
       "<table border=\"1\" class=\"dataframe\">\n",
       "  <thead>\n",
       "    <tr style=\"text-align: right;\">\n",
       "      <th></th>\n",
       "      <th>client_id</th>\n",
       "      <th>birth</th>\n",
       "      <th>session_id</th>\n",
       "      <th>age</th>\n",
       "    </tr>\n",
       "  </thead>\n",
       "  <tbody>\n",
       "    <tr>\n",
       "      <th>0</th>\n",
       "      <td>c_4410</td>\n",
       "      <td>1967</td>\n",
       "      <td>52</td>\n",
       "      <td>56</td>\n",
       "    </tr>\n",
       "    <tr>\n",
       "      <th>1</th>\n",
       "      <td>c_7839</td>\n",
       "      <td>1975</td>\n",
       "      <td>19</td>\n",
       "      <td>48</td>\n",
       "    </tr>\n",
       "    <tr>\n",
       "      <th>2</th>\n",
       "      <td>c_1699</td>\n",
       "      <td>1984</td>\n",
       "      <td>6</td>\n",
       "      <td>39</td>\n",
       "    </tr>\n",
       "    <tr>\n",
       "      <th>3</th>\n",
       "      <td>c_5961</td>\n",
       "      <td>1962</td>\n",
       "      <td>58</td>\n",
       "      <td>61</td>\n",
       "    </tr>\n",
       "    <tr>\n",
       "      <th>4</th>\n",
       "      <td>c_5320</td>\n",
       "      <td>1943</td>\n",
       "      <td>18</td>\n",
       "      <td>80</td>\n",
       "    </tr>\n",
       "    <tr>\n",
       "      <th>...</th>\n",
       "      <td>...</td>\n",
       "      <td>...</td>\n",
       "      <td>...</td>\n",
       "      <td>...</td>\n",
       "    </tr>\n",
       "    <tr>\n",
       "      <th>8595</th>\n",
       "      <td>c_7920</td>\n",
       "      <td>1956</td>\n",
       "      <td>47</td>\n",
       "      <td>67</td>\n",
       "    </tr>\n",
       "    <tr>\n",
       "      <th>8596</th>\n",
       "      <td>c_7403</td>\n",
       "      <td>1970</td>\n",
       "      <td>123</td>\n",
       "      <td>53</td>\n",
       "    </tr>\n",
       "    <tr>\n",
       "      <th>8597</th>\n",
       "      <td>c_5119</td>\n",
       "      <td>1974</td>\n",
       "      <td>25</td>\n",
       "      <td>49</td>\n",
       "    </tr>\n",
       "    <tr>\n",
       "      <th>8598</th>\n",
       "      <td>c_5643</td>\n",
       "      <td>1968</td>\n",
       "      <td>95</td>\n",
       "      <td>55</td>\n",
       "    </tr>\n",
       "    <tr>\n",
       "      <th>8599</th>\n",
       "      <td>c_84</td>\n",
       "      <td>1982</td>\n",
       "      <td>14</td>\n",
       "      <td>41</td>\n",
       "    </tr>\n",
       "  </tbody>\n",
       "</table>\n",
       "<p>8600 rows × 4 columns</p>\n",
       "</div>"
      ],
      "text/plain": [
       "     client_id  birth  session_id  age\n",
       "0       c_4410   1967          52   56\n",
       "1       c_7839   1975          19   48\n",
       "2       c_1699   1984           6   39\n",
       "3       c_5961   1962          58   61\n",
       "4       c_5320   1943          18   80\n",
       "...        ...    ...         ...  ...\n",
       "8595    c_7920   1956          47   67\n",
       "8596    c_7403   1970         123   53\n",
       "8597    c_5119   1974          25   49\n",
       "8598    c_5643   1968          95   55\n",
       "8599      c_84   1982          14   41\n",
       "\n",
       "[8600 rows x 4 columns]"
      ]
     },
     "execution_count": 59,
     "metadata": {},
     "output_type": "execute_result"
    }
   ],
   "source": [
    "# Frequence d'achat vs age\n",
    "client_session=trans_prod_cli[['client_id','session_id']].drop_duplicates()\n",
    "freq_achat = client_session.groupby(by='client_id').count()\n",
    "age_freq = customers[['client_id','birth']].merge(freq_achat, on='client_id',how='inner')\n",
    "age_freq['age']=2023-age_freq['birth']\n",
    "age_freq"
   ]
  },
  {
   "cell_type": "markdown",
   "id": "f7087bc0",
   "metadata": {},
   "source": [
    "### Afficher les session_ids inferieur à 2000 ( exclure les outliers)"
   ]
  },
  {
   "cell_type": "code",
   "execution_count": 60,
   "id": "7a191ba5",
   "metadata": {},
   "outputs": [],
   "source": [
    "age_freq=age_freq[age_freq['session_id']<2000]"
   ]
  },
  {
   "cell_type": "code",
   "execution_count": 61,
   "id": "88b2cd8d",
   "metadata": {
    "scrolled": true
   },
   "outputs": [
    {
     "data": {
      "text/plain": [
       "<AxesSubplot:xlabel='age', ylabel='session_id'>"
      ]
     },
     "execution_count": 61,
     "metadata": {},
     "output_type": "execute_result"
    },
    {
     "data": {
      "image/png": "[encoded data removed]",
      "text/plain": [
       "<Figure size 640x480 with 1 Axes>"
      ]
     },
     "metadata": {},
     "output_type": "display_data"
    }
   ],
   "source": [
    "sns.scatterplot(data=age_freq,x='age',y='session_id')\n",
    "#.xlabel(\"age\")\n",
    "#plt.ylabel(\"montant\")\n"
   ]
  },
  {
   "cell_type": "markdown",
   "id": "1386718b",
   "metadata": {},
   "source": [
    "### Le Test de Normalité de Kolmogorov Smirnov\n",
    "Le test de normalité de Kolmogorov-Smirnov permet de déterminer si une distribution généralement une distribution d’échantillon – correspond aux caractéristiques d’une distribution normale.\n",
    "\n",
    "C’est prérequis pour toute utilisation d’un test statistique paramétrique.\n",
    "Le Test de Normalité de Kolmogorov Smirnov est aussi adapté aux échelles normales. \n",
    "Si la statistique D est significative, nous devons rejeter l'hypothèse selon laquelle la distribution respective est normale.\n",
    "\n",
    "le coefficient est significatif -> la valeur de p doit être plus petite que 0,05 \n",
    "\n",
    "le coefficient est non significatif -> on considère qu'il est semblable à r = 0 \n",
    "\n",
    "si c'était normal on fait le test Pearson sinon on fait le test Spearman"
   ]
  },
  {
   "cell_type": "markdown",
   "id": "8d0aad47",
   "metadata": {},
   "source": [
    "### tester la normalité de fréquence d'achat"
   ]
  },
  {
   "cell_type": "code",
   "execution_count": 62,
   "id": "e22efdf0",
   "metadata": {},
   "outputs": [
    {
     "name": "stdout",
     "output_type": "stream",
     "text": [
      "Kolmogorov-Smirnov: D:0.987831116393684 p=0.0\n"
     ]
    }
   ],
   "source": [
    "y = age_freq['session_id']\n",
    "D, p = stats.kstest(y,'norm')\n",
    "print (\"Kolmogorov-Smirnov: D:{0} p={1}\". format(D,p))"
   ]
  },
  {
   "cell_type": "markdown",
   "id": "8366f097",
   "metadata": {},
   "source": [
    "### tester la normalité d'age"
   ]
  },
  {
   "cell_type": "code",
   "execution_count": 63,
   "id": "a770727e",
   "metadata": {},
   "outputs": [
    {
     "name": "stdout",
     "output_type": "stream",
     "text": [
      "Kolmogorov-Smirnov: D:1.0 p=0.0\n"
     ]
    }
   ],
   "source": [
    "x = age_freq['age']\n",
    "D, p = stats.kstest(x,'norm')\n",
    "print (\"Kolmogorov-Smirnov: D:{0} p={1}\".format(D,p))"
   ]
  },
  {
   "cell_type": "markdown",
   "id": "81491833",
   "metadata": {},
   "source": [
    "Les ages ne suivent pas une distribution Normale, le test est forcément non pramétrique, on utilise donc un test de corrélation de Spearman."
   ]
  },
  {
   "cell_type": "code",
   "execution_count": 64,
   "id": "0cc0788f",
   "metadata": {},
   "outputs": [
    {
     "name": "stdout",
     "output_type": "stream",
     "text": [
      "spearman correlation: 0.212 pvalue= 3.180991037736119e-88\n"
     ]
    }
   ],
   "source": [
    "from scipy.stats import spearmanr\n",
    "list1= age_freq['age']\n",
    "list2 = age_freq['session_id']\n",
    "\n",
    "corr, p = spearmanr(list1, list2)\n",
    "print('spearman correlation: %.3f' % corr, 'pvalue=',p) "
   ]
  },
  {
   "cell_type": "markdown",
   "id": "80968a11",
   "metadata": {},
   "source": [
    "Les intérpretations des résultats des tests de spearman : \n",
    "\n",
    "Une valeur positive (maximum = +1) indique une variation simultanée dans le même sens, une valeur négative (minimum = -1) une variation simultanée en sens inverse.\n",
    "\n",
    "Une valeur de 0 de 𝑟s indique qu’il n’y a pas de relation entre les variables. Plus la valeur de 𝑟s\n",
    "est proche de −1 ou 1, plus la corrélation est forte ; et plus elle est proche de 0, plus la corrélation est faible.\n",
    "\n",
    "Ici, le coefficient de corrélation lui-même est de 0,212. Cela indique une relation positive (depuis son nombre positif), ce qui indique que si l'un monte, l'autre monte probablement aussi. La corrélation est significative, puisque la valeur de p est bien inférieure au seuil habituel de 0,05. \n",
    "\n",
    "H0: le coefficeint de corrélation de Spearman est ègal à 0 -> aucune corrélation\n",
    "\n",
    "H1: le coéfficient de corrélation de Spearman est différent de 0 -> il y a une corrélation\n",
    "\n",
    "On rejette H0 si p-valeur < 0.05\n",
    "\n",
    "Donc il y a une faible corrélation entre les age des clients et leurs frequences d'achats. "
   ]
  },
  {
   "cell_type": "markdown",
   "id": "769d588f",
   "metadata": {},
   "source": [
    "## <a name=\"C9\">9. Le lien entre l'âge des clients et montant total des achats </a>"
   ]
  },
  {
   "cell_type": "code",
   "execution_count": 65,
   "id": "dfdd8c98",
   "metadata": {
    "scrolled": true
   },
   "outputs": [
    {
     "data": {
      "text/html": [
       "<div>\n",
       "<style scoped>\n",
       "    .dataframe tbody tr th:only-of-type {\n",
       "        vertical-align: middle;\n",
       "    }\n",
       "\n",
       "    .dataframe tbody tr th {\n",
       "        vertical-align: top;\n",
       "    }\n",
       "\n",
       "    .dataframe thead th {\n",
       "        text-align: right;\n",
       "    }\n",
       "</style>\n",
       "<table border=\"1\" class=\"dataframe\">\n",
       "  <thead>\n",
       "    <tr style=\"text-align: right;\">\n",
       "      <th></th>\n",
       "      <th>client_id</th>\n",
       "      <th>birth</th>\n",
       "      <th>price</th>\n",
       "    </tr>\n",
       "  </thead>\n",
       "  <tbody>\n",
       "    <tr>\n",
       "      <th>3633</th>\n",
       "      <td>c_1609</td>\n",
       "      <td>1980</td>\n",
       "      <td>324033.35000</td>\n",
       "    </tr>\n",
       "    <tr>\n",
       "      <th>1377</th>\n",
       "      <td>c_4958</td>\n",
       "      <td>1999</td>\n",
       "      <td>289760.34000</td>\n",
       "    </tr>\n",
       "    <tr>\n",
       "      <th>1910</th>\n",
       "      <td>c_6714</td>\n",
       "      <td>1968</td>\n",
       "      <td>153669.28368</td>\n",
       "    </tr>\n",
       "    <tr>\n",
       "      <th>8067</th>\n",
       "      <td>c_3454</td>\n",
       "      <td>1969</td>\n",
       "      <td>113673.11184</td>\n",
       "    </tr>\n",
       "    <tr>\n",
       "      <th>4713</th>\n",
       "      <td>c_3263</td>\n",
       "      <td>1985</td>\n",
       "      <td>5276.87000</td>\n",
       "    </tr>\n",
       "    <tr>\n",
       "      <th>...</th>\n",
       "      <td>...</td>\n",
       "      <td>...</td>\n",
       "      <td>...</td>\n",
       "    </tr>\n",
       "    <tr>\n",
       "      <th>1553</th>\n",
       "      <td>c_4648</td>\n",
       "      <td>2004</td>\n",
       "      <td>11.20000</td>\n",
       "    </tr>\n",
       "    <tr>\n",
       "      <th>6299</th>\n",
       "      <td>c_240</td>\n",
       "      <td>1998</td>\n",
       "      <td>11.06000</td>\n",
       "    </tr>\n",
       "    <tr>\n",
       "      <th>2462</th>\n",
       "      <td>c_8114</td>\n",
       "      <td>1962</td>\n",
       "      <td>9.98000</td>\n",
       "    </tr>\n",
       "    <tr>\n",
       "      <th>2717</th>\n",
       "      <td>c_8140</td>\n",
       "      <td>1971</td>\n",
       "      <td>8.30000</td>\n",
       "    </tr>\n",
       "    <tr>\n",
       "      <th>2169</th>\n",
       "      <td>c_8351</td>\n",
       "      <td>1968</td>\n",
       "      <td>6.31000</td>\n",
       "    </tr>\n",
       "  </tbody>\n",
       "</table>\n",
       "<p>8600 rows × 3 columns</p>\n",
       "</div>"
      ],
      "text/plain": [
       "     client_id  birth         price\n",
       "3633    c_1609   1980  324033.35000\n",
       "1377    c_4958   1999  289760.34000\n",
       "1910    c_6714   1968  153669.28368\n",
       "8067    c_3454   1969  113673.11184\n",
       "4713    c_3263   1985    5276.87000\n",
       "...        ...    ...           ...\n",
       "1553    c_4648   2004      11.20000\n",
       "6299     c_240   1998      11.06000\n",
       "2462    c_8114   1962       9.98000\n",
       "2717    c_8140   1971       8.30000\n",
       "2169    c_8351   1968       6.31000\n",
       "\n",
       "[8600 rows x 3 columns]"
      ]
     },
     "execution_count": 65,
     "metadata": {},
     "output_type": "execute_result"
    }
   ],
   "source": [
    "# Montant d'achat vs age\n",
    "mont = trans_prod_cli.groupby(by='client_id')[[\"price\"]].sum()\n",
    "age_mont = customers[[\"client_id\",\"birth\"]].merge(mont,on=\"client_id\", how='inner')\n",
    "\n",
    "age_mont.sort_values(by=\"price\", ascending=False)"
   ]
  },
  {
   "cell_type": "markdown",
   "id": "c25d66a6",
   "metadata": {},
   "source": [
    "### Créer le colonne d'age"
   ]
  },
  {
   "cell_type": "code",
   "execution_count": 66,
   "id": "8c806fea",
   "metadata": {},
   "outputs": [
    {
     "data": {
      "text/html": [
       "<div>\n",
       "<style scoped>\n",
       "    .dataframe tbody tr th:only-of-type {\n",
       "        vertical-align: middle;\n",
       "    }\n",
       "\n",
       "    .dataframe tbody tr th {\n",
       "        vertical-align: top;\n",
       "    }\n",
       "\n",
       "    .dataframe thead th {\n",
       "        text-align: right;\n",
       "    }\n",
       "</style>\n",
       "<table border=\"1\" class=\"dataframe\">\n",
       "  <thead>\n",
       "    <tr style=\"text-align: right;\">\n",
       "      <th></th>\n",
       "      <th>client_id</th>\n",
       "      <th>birth</th>\n",
       "      <th>price</th>\n",
       "      <th>age</th>\n",
       "    </tr>\n",
       "  </thead>\n",
       "  <tbody>\n",
       "    <tr>\n",
       "      <th>0</th>\n",
       "      <td>c_4410</td>\n",
       "      <td>1967</td>\n",
       "      <td>1376.82</td>\n",
       "      <td>56</td>\n",
       "    </tr>\n",
       "    <tr>\n",
       "      <th>1</th>\n",
       "      <td>c_7839</td>\n",
       "      <td>1975</td>\n",
       "      <td>554.93</td>\n",
       "      <td>48</td>\n",
       "    </tr>\n",
       "    <tr>\n",
       "      <th>2</th>\n",
       "      <td>c_1699</td>\n",
       "      <td>1984</td>\n",
       "      <td>190.60</td>\n",
       "      <td>39</td>\n",
       "    </tr>\n",
       "    <tr>\n",
       "      <th>3</th>\n",
       "      <td>c_5961</td>\n",
       "      <td>1962</td>\n",
       "      <td>1150.42</td>\n",
       "      <td>61</td>\n",
       "    </tr>\n",
       "    <tr>\n",
       "      <th>4</th>\n",
       "      <td>c_5320</td>\n",
       "      <td>1943</td>\n",
       "      <td>396.53</td>\n",
       "      <td>80</td>\n",
       "    </tr>\n",
       "    <tr>\n",
       "      <th>...</th>\n",
       "      <td>...</td>\n",
       "      <td>...</td>\n",
       "      <td>...</td>\n",
       "      <td>...</td>\n",
       "    </tr>\n",
       "    <tr>\n",
       "      <th>8595</th>\n",
       "      <td>c_7920</td>\n",
       "      <td>1956</td>\n",
       "      <td>1897.16</td>\n",
       "      <td>67</td>\n",
       "    </tr>\n",
       "    <tr>\n",
       "      <th>8596</th>\n",
       "      <td>c_7403</td>\n",
       "      <td>1970</td>\n",
       "      <td>2592.73</td>\n",
       "      <td>53</td>\n",
       "    </tr>\n",
       "    <tr>\n",
       "      <th>8597</th>\n",
       "      <td>c_5119</td>\n",
       "      <td>1974</td>\n",
       "      <td>729.69</td>\n",
       "      <td>49</td>\n",
       "    </tr>\n",
       "    <tr>\n",
       "      <th>8598</th>\n",
       "      <td>c_5643</td>\n",
       "      <td>1968</td>\n",
       "      <td>1995.95</td>\n",
       "      <td>55</td>\n",
       "    </tr>\n",
       "    <tr>\n",
       "      <th>8599</th>\n",
       "      <td>c_84</td>\n",
       "      <td>1982</td>\n",
       "      <td>427.51</td>\n",
       "      <td>41</td>\n",
       "    </tr>\n",
       "  </tbody>\n",
       "</table>\n",
       "<p>8600 rows × 4 columns</p>\n",
       "</div>"
      ],
      "text/plain": [
       "     client_id  birth    price  age\n",
       "0       c_4410   1967  1376.82   56\n",
       "1       c_7839   1975   554.93   48\n",
       "2       c_1699   1984   190.60   39\n",
       "3       c_5961   1962  1150.42   61\n",
       "4       c_5320   1943   396.53   80\n",
       "...        ...    ...      ...  ...\n",
       "8595    c_7920   1956  1897.16   67\n",
       "8596    c_7403   1970  2592.73   53\n",
       "8597    c_5119   1974   729.69   49\n",
       "8598    c_5643   1968  1995.95   55\n",
       "8599      c_84   1982   427.51   41\n",
       "\n",
       "[8600 rows x 4 columns]"
      ]
     },
     "execution_count": 66,
     "metadata": {},
     "output_type": "execute_result"
    }
   ],
   "source": [
    "age_mont['age']=2023-age_mont['birth']\n",
    "age_mont"
   ]
  },
  {
   "cell_type": "markdown",
   "id": "f79819d2",
   "metadata": {},
   "source": [
    "### tester la normalité de montant"
   ]
  },
  {
   "cell_type": "code",
   "execution_count": 67,
   "id": "4605c233",
   "metadata": {},
   "outputs": [
    {
     "name": "stdout",
     "output_type": "stream",
     "text": [
      "Kolmogorov-Smirnov: D:0.9999999998604823 p=0.0\n"
     ]
    }
   ],
   "source": [
    "x = age_mont['price']\n",
    "D, p = stats.kstest(x,'norm')\n",
    "print (\"Kolmogorov-Smirnov: D:{0} p={1}\".format(D,p))"
   ]
  },
  {
   "cell_type": "markdown",
   "id": "05041c3b",
   "metadata": {},
   "source": [
    "la valeur de P est inférieur à 0.05 donc le test ne suis pas la loi de normalité, par conséquent on fait le test de Spearman"
   ]
  },
  {
   "cell_type": "markdown",
   "id": "9ee983ad",
   "metadata": {},
   "source": [
    "### Filtrer les montant inférieur à 100000"
   ]
  },
  {
   "cell_type": "code",
   "execution_count": 68,
   "id": "aa367200",
   "metadata": {},
   "outputs": [],
   "source": [
    "age_mont=age_mont[age_mont['price']<100000]"
   ]
  },
  {
   "cell_type": "markdown",
   "id": "45384a7c",
   "metadata": {},
   "source": [
    "### Afficher le montant total des achats selon l'âge des clients"
   ]
  },
  {
   "cell_type": "code",
   "execution_count": 69,
   "id": "bb15a1ca",
   "metadata": {},
   "outputs": [
    {
     "data": {
      "text/plain": [
       "<AxesSubplot:xlabel='age', ylabel='price'>"
      ]
     },
     "execution_count": 69,
     "metadata": {},
     "output_type": "execute_result"
    },
    {
     "data": {
      "image/png": "[encoded data removed]",
      "text/plain": [
       "<Figure size 640x480 with 1 Axes>"
      ]
     },
     "metadata": {},
     "output_type": "display_data"
    }
   ],
   "source": [
    "sns.scatterplot(data=age_mont,x='age',y='price')\n",
    "#.xlabel(\"Age\")\n",
    "#plt.ylabel(\"Montant\")"
   ]
  },
  {
   "cell_type": "code",
   "execution_count": 70,
   "id": "191025b6",
   "metadata": {},
   "outputs": [
    {
     "name": "stdout",
     "output_type": "stream",
     "text": [
      "Spearman correlation: -0.185 pvalue= 4.0721226705181694e-67\n"
     ]
    }
   ],
   "source": [
    "list1= age_mont['age']\n",
    "list2 = age_mont['price']\n",
    "\n",
    "corr, p = spearmanr(list1, list2)\n",
    "print('Spearman correlation: %.3f' % corr, 'pvalue=',p) "
   ]
  },
  {
   "cell_type": "markdown",
   "id": "2ba7eab4",
   "metadata": {},
   "source": [
    "Les intérpretations des résultats des tests de spearman :\n",
    "\n",
    "Ici, le coefficient de corrélation lui-même est de -0.185. Cela indique une relation négatif (depuis son nombre négatif). La corrélation est significative, puisque la valeur de p est bien inférieure au seuil habituel de 0,05. \n",
    "\n",
    "H0: le coefficeint de corrélation de Spearman est ègal à 0 -> aucune corrélation \n",
    "\n",
    "H1: le coéfficient de corrélation de Spearman est différent de 0 -> il y a une corrélation\n",
    "\n",
    "On rejette H0 si p-valeur < 0.05\n",
    "\n",
    "Donc il y a une faible corrélation négativement entre les ages des clients et les montants totals des achats."
   ]
  },
  {
   "cell_type": "markdown",
   "id": "61a68102",
   "metadata": {},
   "source": [
    "## <a name=\"C10\">10. Le lien entre l'âge des clients et les catégories des livres achetés - ANOVA</a>"
   ]
  },
  {
   "cell_type": "markdown",
   "id": "ac6a70e6",
   "metadata": {},
   "source": [
    "### Afficher boxplot pour correlation entre age et catégorie"
   ]
  },
  {
   "cell_type": "code",
   "execution_count": 71,
   "id": "269d77c3",
   "metadata": {},
   "outputs": [
    {
     "data": {
      "text/plain": [
       "<AxesSubplot:xlabel='categ', ylabel='age'>"
      ]
     },
     "execution_count": 71,
     "metadata": {},
     "output_type": "execute_result"
    },
    {
     "data": {
      "image/png": "[encoded data removed]",
      "text/plain": [
       "<Figure size 640x480 with 1 Axes>"
      ]
     },
     "metadata": {},
     "output_type": "display_data"
    }
   ],
   "source": [
    "sns.boxplot(data=trans_prod_cli,x='categ',y='age')"
   ]
  },
  {
   "cell_type": "markdown",
   "id": "fd32b0bf",
   "metadata": {},
   "source": [
    "### Categ_0"
   ]
  },
  {
   "cell_type": "code",
   "execution_count": 72,
   "id": "b800f68b",
   "metadata": {},
   "outputs": [
    {
     "data": {
      "text/plain": [
       "array([[<AxesSubplot:title={'center':'age'}>]], dtype=object)"
      ]
     },
     "execution_count": 72,
     "metadata": {},
     "output_type": "execute_result"
    },
    {
     "data": {
      "image/png": "[encoded data removed]",
      "text/plain": [
       "<Figure size 640x480 with 1 Axes>"
      ]
     },
     "metadata": {},
     "output_type": "display_data"
    }
   ],
   "source": [
    "categ_0=trans_prod_cli[trans_prod_cli['categ']==0.0]\n",
    "categ_0.hist('age')"
   ]
  },
  {
   "cell_type": "code",
   "execution_count": 73,
   "id": "7f2317c7",
   "metadata": {
    "scrolled": true
   },
   "outputs": [
    {
     "name": "stderr",
     "output_type": "stream",
     "text": [
      "C:\\Users\\morta\\anaconda3\\lib\\site-packages\\scipy\\stats\\_morestats.py:1800: UserWarning: p-value may not be accurate for N > 5000.\n",
      "  warnings.warn(\"p-value may not be accurate for N > 5000.\")\n"
     ]
    },
    {
     "data": {
      "text/plain": [
       "ShapiroResult(statistic=0.9367284774780273, pvalue=0.0)"
      ]
     },
     "execution_count": 73,
     "metadata": {},
     "output_type": "execute_result"
    }
   ],
   "source": [
    "# test la loi normal\n",
    "shapiro_test0 = stats.shapiro(categ_0.age)\n",
    "shapiro_test0"
   ]
  },
  {
   "cell_type": "code",
   "execution_count": 74,
   "id": "af8e16a2",
   "metadata": {},
   "outputs": [
    {
     "data": {
      "text/html": [
       "<div>\n",
       "<style scoped>\n",
       "    .dataframe tbody tr th:only-of-type {\n",
       "        vertical-align: middle;\n",
       "    }\n",
       "\n",
       "    .dataframe tbody tr th {\n",
       "        vertical-align: top;\n",
       "    }\n",
       "\n",
       "    .dataframe thead th {\n",
       "        text-align: right;\n",
       "    }\n",
       "</style>\n",
       "<table border=\"1\" class=\"dataframe\">\n",
       "  <thead>\n",
       "    <tr style=\"text-align: right;\">\n",
       "      <th></th>\n",
       "      <th>id_prod</th>\n",
       "      <th>date</th>\n",
       "      <th>session_id</th>\n",
       "      <th>client_id</th>\n",
       "      <th>price</th>\n",
       "      <th>categ</th>\n",
       "      <th>sex</th>\n",
       "      <th>birth</th>\n",
       "      <th>age</th>\n",
       "      <th>AgeRange</th>\n",
       "    </tr>\n",
       "  </thead>\n",
       "  <tbody>\n",
       "    <tr>\n",
       "      <th>0</th>\n",
       "      <td>0_1518</td>\n",
       "      <td>2022-05-20 13:21:29.043970</td>\n",
       "      <td>s_211425</td>\n",
       "      <td>c_103</td>\n",
       "      <td>4.18</td>\n",
       "      <td>0.0</td>\n",
       "      <td>f</td>\n",
       "      <td>1986</td>\n",
       "      <td>37</td>\n",
       "      <td>21-40</td>\n",
       "    </tr>\n",
       "    <tr>\n",
       "      <th>1</th>\n",
       "      <td>0_1518</td>\n",
       "      <td>2021-07-20 13:21:29.043970</td>\n",
       "      <td>s_64849</td>\n",
       "      <td>c_103</td>\n",
       "      <td>4.18</td>\n",
       "      <td>0.0</td>\n",
       "      <td>f</td>\n",
       "      <td>1986</td>\n",
       "      <td>37</td>\n",
       "      <td>21-40</td>\n",
       "    </tr>\n",
       "    <tr>\n",
       "      <th>2</th>\n",
       "      <td>0_1518</td>\n",
       "      <td>2022-08-20 13:21:29.043970</td>\n",
       "      <td>s_255965</td>\n",
       "      <td>c_103</td>\n",
       "      <td>4.18</td>\n",
       "      <td>0.0</td>\n",
       "      <td>f</td>\n",
       "      <td>1986</td>\n",
       "      <td>37</td>\n",
       "      <td>21-40</td>\n",
       "    </tr>\n",
       "    <tr>\n",
       "      <th>3</th>\n",
       "      <td>0_1418</td>\n",
       "      <td>2022-06-18 01:49:37.823274</td>\n",
       "      <td>s_225411</td>\n",
       "      <td>c_103</td>\n",
       "      <td>8.57</td>\n",
       "      <td>0.0</td>\n",
       "      <td>f</td>\n",
       "      <td>1986</td>\n",
       "      <td>37</td>\n",
       "      <td>21-40</td>\n",
       "    </tr>\n",
       "    <tr>\n",
       "      <th>4</th>\n",
       "      <td>0_1418</td>\n",
       "      <td>2021-08-18 01:49:37.823274</td>\n",
       "      <td>s_77214</td>\n",
       "      <td>c_103</td>\n",
       "      <td>8.57</td>\n",
       "      <td>0.0</td>\n",
       "      <td>f</td>\n",
       "      <td>1986</td>\n",
       "      <td>37</td>\n",
       "      <td>21-40</td>\n",
       "    </tr>\n",
       "    <tr>\n",
       "      <th>...</th>\n",
       "      <td>...</td>\n",
       "      <td>...</td>\n",
       "      <td>...</td>\n",
       "      <td>...</td>\n",
       "      <td>...</td>\n",
       "      <td>...</td>\n",
       "      <td>...</td>\n",
       "      <td>...</td>\n",
       "      <td>...</td>\n",
       "      <td>...</td>\n",
       "    </tr>\n",
       "    <tr>\n",
       "      <th>679302</th>\n",
       "      <td>0_1856</td>\n",
       "      <td>2022-12-13 23:00:11.780612</td>\n",
       "      <td>s_311618</td>\n",
       "      <td>c_674</td>\n",
       "      <td>9.57</td>\n",
       "      <td>0.0</td>\n",
       "      <td>m</td>\n",
       "      <td>1960</td>\n",
       "      <td>63</td>\n",
       "      <td>61-80</td>\n",
       "    </tr>\n",
       "    <tr>\n",
       "      <th>679303</th>\n",
       "      <td>0_1856</td>\n",
       "      <td>2021-11-13 23:00:11.780612</td>\n",
       "      <td>s_119245</td>\n",
       "      <td>c_674</td>\n",
       "      <td>9.57</td>\n",
       "      <td>0.0</td>\n",
       "      <td>m</td>\n",
       "      <td>1960</td>\n",
       "      <td>63</td>\n",
       "      <td>61-80</td>\n",
       "    </tr>\n",
       "    <tr>\n",
       "      <th>679323</th>\n",
       "      <td>0_1692</td>\n",
       "      <td>2021-09-15 19:42:08.596375</td>\n",
       "      <td>s_90430</td>\n",
       "      <td>c_4478</td>\n",
       "      <td>13.36</td>\n",
       "      <td>0.0</td>\n",
       "      <td>f</td>\n",
       "      <td>1970</td>\n",
       "      <td>53</td>\n",
       "      <td>41-60</td>\n",
       "    </tr>\n",
       "    <tr>\n",
       "      <th>679328</th>\n",
       "      <td>0_142</td>\n",
       "      <td>2022-03-25 18:07:25.880052</td>\n",
       "      <td>s_184472</td>\n",
       "      <td>c_1232</td>\n",
       "      <td>19.85</td>\n",
       "      <td>0.0</td>\n",
       "      <td>f</td>\n",
       "      <td>1960</td>\n",
       "      <td>63</td>\n",
       "      <td>61-80</td>\n",
       "    </tr>\n",
       "    <tr>\n",
       "      <th>679329</th>\n",
       "      <td>0_142</td>\n",
       "      <td>2021-09-25 18:07:25.880052</td>\n",
       "      <td>s_95415</td>\n",
       "      <td>c_1232</td>\n",
       "      <td>19.85</td>\n",
       "      <td>0.0</td>\n",
       "      <td>f</td>\n",
       "      <td>1960</td>\n",
       "      <td>63</td>\n",
       "      <td>61-80</td>\n",
       "    </tr>\n",
       "  </tbody>\n",
       "</table>\n",
       "<p>415680 rows × 10 columns</p>\n",
       "</div>"
      ],
      "text/plain": [
       "       id_prod                       date session_id client_id  price  categ  \\\n",
       "0       0_1518 2022-05-20 13:21:29.043970   s_211425     c_103   4.18    0.0   \n",
       "1       0_1518 2021-07-20 13:21:29.043970    s_64849     c_103   4.18    0.0   \n",
       "2       0_1518 2022-08-20 13:21:29.043970   s_255965     c_103   4.18    0.0   \n",
       "3       0_1418 2022-06-18 01:49:37.823274   s_225411     c_103   8.57    0.0   \n",
       "4       0_1418 2021-08-18 01:49:37.823274    s_77214     c_103   8.57    0.0   \n",
       "...        ...                        ...        ...       ...    ...    ...   \n",
       "679302  0_1856 2022-12-13 23:00:11.780612   s_311618     c_674   9.57    0.0   \n",
       "679303  0_1856 2021-11-13 23:00:11.780612   s_119245     c_674   9.57    0.0   \n",
       "679323  0_1692 2021-09-15 19:42:08.596375    s_90430    c_4478  13.36    0.0   \n",
       "679328   0_142 2022-03-25 18:07:25.880052   s_184472    c_1232  19.85    0.0   \n",
       "679329   0_142 2021-09-25 18:07:25.880052    s_95415    c_1232  19.85    0.0   \n",
       "\n",
       "       sex  birth  age AgeRange  \n",
       "0        f   1986   37    21-40  \n",
       "1        f   1986   37    21-40  \n",
       "2        f   1986   37    21-40  \n",
       "3        f   1986   37    21-40  \n",
       "4        f   1986   37    21-40  \n",
       "...     ..    ...  ...      ...  \n",
       "679302   m   1960   63    61-80  \n",
       "679303   m   1960   63    61-80  \n",
       "679323   f   1970   53    41-60  \n",
       "679328   f   1960   63    61-80  \n",
       "679329   f   1960   63    61-80  \n",
       "\n",
       "[415680 rows x 10 columns]"
      ]
     },
     "execution_count": 74,
     "metadata": {},
     "output_type": "execute_result"
    }
   ],
   "source": [
    "categ_0"
   ]
  },
  {
   "cell_type": "markdown",
   "id": "c9caa0b4",
   "metadata": {},
   "source": [
    "### Categ_1"
   ]
  },
  {
   "cell_type": "code",
   "execution_count": 75,
   "id": "382a3f0f",
   "metadata": {
    "scrolled": false
   },
   "outputs": [
    {
     "data": {
      "text/plain": [
       "array([[<AxesSubplot:title={'center':'age'}>]], dtype=object)"
      ]
     },
     "execution_count": 75,
     "metadata": {},
     "output_type": "execute_result"
    },
    {
     "data": {
      "image/png": "[encoded data removed]",
      "text/plain": [
       "<Figure size 640x480 with 1 Axes>"
      ]
     },
     "metadata": {},
     "output_type": "display_data"
    }
   ],
   "source": [
    "categ_1=trans_prod_cli[trans_prod_cli['categ']==1.0]\n",
    "categ_1.hist('age')"
   ]
  },
  {
   "cell_type": "code",
   "execution_count": 76,
   "id": "563c6377",
   "metadata": {
    "scrolled": true
   },
   "outputs": [
    {
     "name": "stderr",
     "output_type": "stream",
     "text": [
      "C:\\Users\\morta\\anaconda3\\lib\\site-packages\\scipy\\stats\\_morestats.py:1800: UserWarning: p-value may not be accurate for N > 5000.\n",
      "  warnings.warn(\"p-value may not be accurate for N > 5000.\")\n"
     ]
    },
    {
     "data": {
      "text/plain": [
       "ShapiroResult(statistic=0.9893467426300049, pvalue=0.0)"
      ]
     },
     "execution_count": 76,
     "metadata": {},
     "output_type": "execute_result"
    }
   ],
   "source": [
    "# test la loi normal\n",
    "shapiro_test1 = stats.shapiro(categ_1.age)\n",
    "shapiro_test1"
   ]
  },
  {
   "cell_type": "markdown",
   "id": "195cd7c0",
   "metadata": {},
   "source": [
    "### Categ_2_Histogram"
   ]
  },
  {
   "cell_type": "code",
   "execution_count": 77,
   "id": "570b652a",
   "metadata": {
    "scrolled": true
   },
   "outputs": [
    {
     "data": {
      "text/plain": [
       "array([[<AxesSubplot:title={'center':'age'}>]], dtype=object)"
      ]
     },
     "execution_count": 77,
     "metadata": {},
     "output_type": "execute_result"
    },
    {
     "data": {
      "image/png": "[encoded data removed]",
      "text/plain": [
       "<Figure size 640x480 with 1 Axes>"
      ]
     },
     "metadata": {},
     "output_type": "display_data"
    }
   ],
   "source": [
    "categ_2=trans_prod_cli[trans_prod_cli['categ']==2.0]\n",
    "categ_2.hist('age')"
   ]
  },
  {
   "cell_type": "code",
   "execution_count": 78,
   "id": "ba8105b1",
   "metadata": {},
   "outputs": [
    {
     "name": "stderr",
     "output_type": "stream",
     "text": [
      "C:\\Users\\morta\\anaconda3\\lib\\site-packages\\scipy\\stats\\_morestats.py:1800: UserWarning: p-value may not be accurate for N > 5000.\n",
      "  warnings.warn(\"p-value may not be accurate for N > 5000.\")\n"
     ]
    },
    {
     "data": {
      "text/plain": [
       "ShapiroResult(statistic=0.6679463386535645, pvalue=0.0)"
      ]
     },
     "execution_count": 78,
     "metadata": {},
     "output_type": "execute_result"
    }
   ],
   "source": [
    "# test la loi normal\n",
    "shapiro_test2 = stats.shapiro(categ_2.age)\n",
    "shapiro_test2"
   ]
  },
  {
   "cell_type": "markdown",
   "id": "4407da95",
   "metadata": {},
   "source": [
    "### On fait le test Levene pour 3 caégories"
   ]
  },
  {
   "cell_type": "code",
   "execution_count": 79,
   "id": "b81fb3ea",
   "metadata": {
    "scrolled": true
   },
   "outputs": [
    {
     "name": "stdout",
     "output_type": "stream",
     "text": [
      "Lavene's test statistic: 26091.730839883512\n",
      "P-value: 0.0\n"
     ]
    }
   ],
   "source": [
    "stat, p_value = stats.levene(categ_0.age, categ_1.age, categ_2.age)\n",
    "\n",
    "print(f\"Lavene's test statistic: {stat}\")\n",
    "print(f\"P-value: {p_value}\")"
   ]
  },
  {
   "cell_type": "markdown",
   "id": "1c4b578c",
   "metadata": {},
   "source": [
    "On rejet le H0, c est à dire que on ne peut pas faire l'ANOVA\n",
    "donc il faut faire le test non-paramétirque /Kruskal-Wallis"
   ]
  },
  {
   "cell_type": "markdown",
   "id": "2171421e",
   "metadata": {},
   "source": [
    "### Le test de Kruskal-Wallis"
   ]
  },
  {
   "cell_type": "markdown",
   "id": "c6a5baab",
   "metadata": {},
   "source": [
    "Le test de Kruskal-Wallis est un test robuste non paramétrique. Pas besoin de conditions préalables pour l'appliquer. Il permet de savoir, pour une variable pour laquelle on dispose de plusieurs catégories, si au moins une catégorie diffère.\n",
    "\n",
    "Comme il s'applique à la médiane, il peut passer en force même si les valeurs ne se répartissent pas selon la loi normale"
   ]
  },
  {
   "cell_type": "code",
   "execution_count": 80,
   "id": "00875538",
   "metadata": {},
   "outputs": [
    {
     "data": {
      "text/html": [
       "<div>\n",
       "<style scoped>\n",
       "    .dataframe tbody tr th:only-of-type {\n",
       "        vertical-align: middle;\n",
       "    }\n",
       "\n",
       "    .dataframe tbody tr th {\n",
       "        vertical-align: top;\n",
       "    }\n",
       "\n",
       "    .dataframe thead th {\n",
       "        text-align: right;\n",
       "    }\n",
       "</style>\n",
       "<table border=\"1\" class=\"dataframe\">\n",
       "  <thead>\n",
       "    <tr style=\"text-align: right;\">\n",
       "      <th></th>\n",
       "      <th>id_prod</th>\n",
       "      <th>date</th>\n",
       "      <th>session_id</th>\n",
       "      <th>client_id</th>\n",
       "      <th>price</th>\n",
       "      <th>categ</th>\n",
       "      <th>sex</th>\n",
       "      <th>birth</th>\n",
       "      <th>age</th>\n",
       "      <th>AgeRange</th>\n",
       "    </tr>\n",
       "  </thead>\n",
       "  <tbody>\n",
       "    <tr>\n",
       "      <th>0</th>\n",
       "      <td>0_1518</td>\n",
       "      <td>2022-05-20 13:21:29.043970</td>\n",
       "      <td>s_211425</td>\n",
       "      <td>c_103</td>\n",
       "      <td>4.18</td>\n",
       "      <td>0.0</td>\n",
       "      <td>f</td>\n",
       "      <td>1986</td>\n",
       "      <td>37</td>\n",
       "      <td>21-40</td>\n",
       "    </tr>\n",
       "    <tr>\n",
       "      <th>1</th>\n",
       "      <td>0_1518</td>\n",
       "      <td>2021-07-20 13:21:29.043970</td>\n",
       "      <td>s_64849</td>\n",
       "      <td>c_103</td>\n",
       "      <td>4.18</td>\n",
       "      <td>0.0</td>\n",
       "      <td>f</td>\n",
       "      <td>1986</td>\n",
       "      <td>37</td>\n",
       "      <td>21-40</td>\n",
       "    </tr>\n",
       "    <tr>\n",
       "      <th>2</th>\n",
       "      <td>0_1518</td>\n",
       "      <td>2022-08-20 13:21:29.043970</td>\n",
       "      <td>s_255965</td>\n",
       "      <td>c_103</td>\n",
       "      <td>4.18</td>\n",
       "      <td>0.0</td>\n",
       "      <td>f</td>\n",
       "      <td>1986</td>\n",
       "      <td>37</td>\n",
       "      <td>21-40</td>\n",
       "    </tr>\n",
       "    <tr>\n",
       "      <th>3</th>\n",
       "      <td>0_1418</td>\n",
       "      <td>2022-06-18 01:49:37.823274</td>\n",
       "      <td>s_225411</td>\n",
       "      <td>c_103</td>\n",
       "      <td>8.57</td>\n",
       "      <td>0.0</td>\n",
       "      <td>f</td>\n",
       "      <td>1986</td>\n",
       "      <td>37</td>\n",
       "      <td>21-40</td>\n",
       "    </tr>\n",
       "    <tr>\n",
       "      <th>4</th>\n",
       "      <td>0_1418</td>\n",
       "      <td>2021-08-18 01:49:37.823274</td>\n",
       "      <td>s_77214</td>\n",
       "      <td>c_103</td>\n",
       "      <td>8.57</td>\n",
       "      <td>0.0</td>\n",
       "      <td>f</td>\n",
       "      <td>1986</td>\n",
       "      <td>37</td>\n",
       "      <td>21-40</td>\n",
       "    </tr>\n",
       "    <tr>\n",
       "      <th>...</th>\n",
       "      <td>...</td>\n",
       "      <td>...</td>\n",
       "      <td>...</td>\n",
       "      <td>...</td>\n",
       "      <td>...</td>\n",
       "      <td>...</td>\n",
       "      <td>...</td>\n",
       "      <td>...</td>\n",
       "      <td>...</td>\n",
       "      <td>...</td>\n",
       "    </tr>\n",
       "    <tr>\n",
       "      <th>679302</th>\n",
       "      <td>0_1856</td>\n",
       "      <td>2022-12-13 23:00:11.780612</td>\n",
       "      <td>s_311618</td>\n",
       "      <td>c_674</td>\n",
       "      <td>9.57</td>\n",
       "      <td>0.0</td>\n",
       "      <td>m</td>\n",
       "      <td>1960</td>\n",
       "      <td>63</td>\n",
       "      <td>61-80</td>\n",
       "    </tr>\n",
       "    <tr>\n",
       "      <th>679303</th>\n",
       "      <td>0_1856</td>\n",
       "      <td>2021-11-13 23:00:11.780612</td>\n",
       "      <td>s_119245</td>\n",
       "      <td>c_674</td>\n",
       "      <td>9.57</td>\n",
       "      <td>0.0</td>\n",
       "      <td>m</td>\n",
       "      <td>1960</td>\n",
       "      <td>63</td>\n",
       "      <td>61-80</td>\n",
       "    </tr>\n",
       "    <tr>\n",
       "      <th>679323</th>\n",
       "      <td>0_1692</td>\n",
       "      <td>2021-09-15 19:42:08.596375</td>\n",
       "      <td>s_90430</td>\n",
       "      <td>c_4478</td>\n",
       "      <td>13.36</td>\n",
       "      <td>0.0</td>\n",
       "      <td>f</td>\n",
       "      <td>1970</td>\n",
       "      <td>53</td>\n",
       "      <td>41-60</td>\n",
       "    </tr>\n",
       "    <tr>\n",
       "      <th>679328</th>\n",
       "      <td>0_142</td>\n",
       "      <td>2022-03-25 18:07:25.880052</td>\n",
       "      <td>s_184472</td>\n",
       "      <td>c_1232</td>\n",
       "      <td>19.85</td>\n",
       "      <td>0.0</td>\n",
       "      <td>f</td>\n",
       "      <td>1960</td>\n",
       "      <td>63</td>\n",
       "      <td>61-80</td>\n",
       "    </tr>\n",
       "    <tr>\n",
       "      <th>679329</th>\n",
       "      <td>0_142</td>\n",
       "      <td>2021-09-25 18:07:25.880052</td>\n",
       "      <td>s_95415</td>\n",
       "      <td>c_1232</td>\n",
       "      <td>19.85</td>\n",
       "      <td>0.0</td>\n",
       "      <td>f</td>\n",
       "      <td>1960</td>\n",
       "      <td>63</td>\n",
       "      <td>61-80</td>\n",
       "    </tr>\n",
       "  </tbody>\n",
       "</table>\n",
       "<p>415680 rows × 10 columns</p>\n",
       "</div>"
      ],
      "text/plain": [
       "       id_prod                       date session_id client_id  price  categ  \\\n",
       "0       0_1518 2022-05-20 13:21:29.043970   s_211425     c_103   4.18    0.0   \n",
       "1       0_1518 2021-07-20 13:21:29.043970    s_64849     c_103   4.18    0.0   \n",
       "2       0_1518 2022-08-20 13:21:29.043970   s_255965     c_103   4.18    0.0   \n",
       "3       0_1418 2022-06-18 01:49:37.823274   s_225411     c_103   8.57    0.0   \n",
       "4       0_1418 2021-08-18 01:49:37.823274    s_77214     c_103   8.57    0.0   \n",
       "...        ...                        ...        ...       ...    ...    ...   \n",
       "679302  0_1856 2022-12-13 23:00:11.780612   s_311618     c_674   9.57    0.0   \n",
       "679303  0_1856 2021-11-13 23:00:11.780612   s_119245     c_674   9.57    0.0   \n",
       "679323  0_1692 2021-09-15 19:42:08.596375    s_90430    c_4478  13.36    0.0   \n",
       "679328   0_142 2022-03-25 18:07:25.880052   s_184472    c_1232  19.85    0.0   \n",
       "679329   0_142 2021-09-25 18:07:25.880052    s_95415    c_1232  19.85    0.0   \n",
       "\n",
       "       sex  birth  age AgeRange  \n",
       "0        f   1986   37    21-40  \n",
       "1        f   1986   37    21-40  \n",
       "2        f   1986   37    21-40  \n",
       "3        f   1986   37    21-40  \n",
       "4        f   1986   37    21-40  \n",
       "...     ..    ...  ...      ...  \n",
       "679302   m   1960   63    61-80  \n",
       "679303   m   1960   63    61-80  \n",
       "679323   f   1970   53    41-60  \n",
       "679328   f   1960   63    61-80  \n",
       "679329   f   1960   63    61-80  \n",
       "\n",
       "[415680 rows x 10 columns]"
      ]
     },
     "execution_count": 80,
     "metadata": {},
     "output_type": "execute_result"
    }
   ],
   "source": [
    "categ_0"
   ]
  },
  {
   "cell_type": "code",
   "execution_count": 81,
   "id": "497831d6",
   "metadata": {},
   "outputs": [],
   "source": [
    "from pingouin import kruskal"
   ]
  },
  {
   "cell_type": "code",
   "execution_count": 82,
   "id": "b5f9f148",
   "metadata": {},
   "outputs": [
    {
     "data": {
      "text/html": [
       "<div>\n",
       "<style scoped>\n",
       "    .dataframe tbody tr th:only-of-type {\n",
       "        vertical-align: middle;\n",
       "    }\n",
       "\n",
       "    .dataframe tbody tr th {\n",
       "        vertical-align: top;\n",
       "    }\n",
       "\n",
       "    .dataframe thead th {\n",
       "        text-align: right;\n",
       "    }\n",
       "</style>\n",
       "<table border=\"1\" class=\"dataframe\">\n",
       "  <thead>\n",
       "    <tr style=\"text-align: right;\">\n",
       "      <th></th>\n",
       "      <th>Source</th>\n",
       "      <th>ddof1</th>\n",
       "      <th>H</th>\n",
       "      <th>p-unc</th>\n",
       "    </tr>\n",
       "  </thead>\n",
       "  <tbody>\n",
       "    <tr>\n",
       "      <th>Kruskal</th>\n",
       "      <td>categ</td>\n",
       "      <td>2</td>\n",
       "      <td>79350.869279</td>\n",
       "      <td>0.0</td>\n",
       "    </tr>\n",
       "  </tbody>\n",
       "</table>\n",
       "</div>"
      ],
      "text/plain": [
       "        Source  ddof1             H  p-unc\n",
       "Kruskal  categ      2  79350.869279    0.0"
      ]
     },
     "execution_count": 82,
     "metadata": {},
     "output_type": "execute_result"
    }
   ],
   "source": [
    "kruskal(data=trans_prod_cli, dv=\"age\", between=\"categ\")"
   ]
  },
  {
   "cell_type": "markdown",
   "id": "1a968a25",
   "metadata": {},
   "source": [
    "Hypothèse nulle        H₀ : toutes les médianes sont égales\n",
    "\n",
    "Hypothèse alternative  H₁ : au moins une médiane est différente"
   ]
  },
  {
   "cell_type": "markdown",
   "id": "d510fcac",
   "metadata": {},
   "source": [
    "quand la p-valeur est inférieure de 0.05, on rejet H0. on cosidère que H0 n'est pas vraie. "
   ]
  },
  {
   "cell_type": "markdown",
   "id": "888d2c8c",
   "metadata": {},
   "source": [
    "## <a name=\"C11\">11. Le lien entre l'âge des clients et la taille moyenne du panier</a>"
   ]
  },
  {
   "cell_type": "markdown",
   "id": "1a0cce18",
   "metadata": {},
   "source": [
    "### La taille moyenne du panier"
   ]
  },
  {
   "cell_type": "code",
   "execution_count": 83,
   "id": "cb5186ac",
   "metadata": {
    "scrolled": true
   },
   "outputs": [
    {
     "data": {
      "text/html": [
       "<div>\n",
       "<style scoped>\n",
       "    .dataframe tbody tr th:only-of-type {\n",
       "        vertical-align: middle;\n",
       "    }\n",
       "\n",
       "    .dataframe tbody tr th {\n",
       "        vertical-align: top;\n",
       "    }\n",
       "\n",
       "    .dataframe thead th {\n",
       "        text-align: right;\n",
       "    }\n",
       "</style>\n",
       "<table border=\"1\" class=\"dataframe\">\n",
       "  <thead>\n",
       "    <tr style=\"text-align: right;\">\n",
       "      <th></th>\n",
       "      <th></th>\n",
       "      <th>price</th>\n",
       "    </tr>\n",
       "    <tr>\n",
       "      <th>client_id</th>\n",
       "      <th>session_id</th>\n",
       "      <th></th>\n",
       "    </tr>\n",
       "  </thead>\n",
       "  <tbody>\n",
       "    <tr>\n",
       "      <th rowspan=\"33\" valign=\"top\">c_1</th>\n",
       "      <th>s_105105</th>\n",
       "      <td>7.99</td>\n",
       "    </tr>\n",
       "    <tr>\n",
       "      <th>s_114737</th>\n",
       "      <td>92.62</td>\n",
       "    </tr>\n",
       "    <tr>\n",
       "      <th>s_120172</th>\n",
       "      <td>44.29</td>\n",
       "    </tr>\n",
       "    <tr>\n",
       "      <th>s_134971</th>\n",
       "      <td>10.30</td>\n",
       "    </tr>\n",
       "    <tr>\n",
       "      <th>s_136532</th>\n",
       "      <td>13.78</td>\n",
       "    </tr>\n",
       "    <tr>\n",
       "      <th>s_139610</th>\n",
       "      <td>16.99</td>\n",
       "    </tr>\n",
       "    <tr>\n",
       "      <th>s_158128</th>\n",
       "      <td>5.99</td>\n",
       "    </tr>\n",
       "    <tr>\n",
       "      <th>s_172478</th>\n",
       "      <td>5.99</td>\n",
       "    </tr>\n",
       "    <tr>\n",
       "      <th>s_182481</th>\n",
       "      <td>11.99</td>\n",
       "    </tr>\n",
       "    <tr>\n",
       "      <th>s_190973</th>\n",
       "      <td>8.99</td>\n",
       "    </tr>\n",
       "    <tr>\n",
       "      <th>s_199811</th>\n",
       "      <td>18.94</td>\n",
       "    </tr>\n",
       "    <tr>\n",
       "      <th>s_205377</th>\n",
       "      <td>8.99</td>\n",
       "    </tr>\n",
       "    <tr>\n",
       "      <th>s_224447</th>\n",
       "      <td>10.30</td>\n",
       "    </tr>\n",
       "    <tr>\n",
       "      <th>s_228867</th>\n",
       "      <td>16.99</td>\n",
       "    </tr>\n",
       "    <tr>\n",
       "      <th>s_230001</th>\n",
       "      <td>11.99</td>\n",
       "    </tr>\n",
       "    <tr>\n",
       "      <th>s_231729</th>\n",
       "      <td>5.99</td>\n",
       "    </tr>\n",
       "    <tr>\n",
       "      <th>s_242617</th>\n",
       "      <td>13.96</td>\n",
       "    </tr>\n",
       "    <tr>\n",
       "      <th>s_244105</th>\n",
       "      <td>18.94</td>\n",
       "    </tr>\n",
       "    <tr>\n",
       "      <th>s_257402</th>\n",
       "      <td>13.96</td>\n",
       "    </tr>\n",
       "    <tr>\n",
       "      <th>s_258252</th>\n",
       "      <td>12.30</td>\n",
       "    </tr>\n",
       "    <tr>\n",
       "      <th>s_278688</th>\n",
       "      <td>10.99</td>\n",
       "    </tr>\n",
       "    <tr>\n",
       "      <th>s_286029</th>\n",
       "      <td>11.99</td>\n",
       "    </tr>\n",
       "    <tr>\n",
       "      <th>s_315508</th>\n",
       "      <td>11.99</td>\n",
       "    </tr>\n",
       "    <tr>\n",
       "      <th>s_317678</th>\n",
       "      <td>18.94</td>\n",
       "    </tr>\n",
       "    <tr>\n",
       "      <th>s_327424</th>\n",
       "      <td>44.29</td>\n",
       "    </tr>\n",
       "    <tr>\n",
       "      <th>s_47346</th>\n",
       "      <td>19.53</td>\n",
       "    </tr>\n",
       "    <tr>\n",
       "      <th>s_65433</th>\n",
       "      <td>11.99</td>\n",
       "    </tr>\n",
       "    <tr>\n",
       "      <th>s_66947</th>\n",
       "      <td>12.30</td>\n",
       "    </tr>\n",
       "    <tr>\n",
       "      <th>s_67467</th>\n",
       "      <td>18.94</td>\n",
       "    </tr>\n",
       "    <tr>\n",
       "      <th>s_67769</th>\n",
       "      <td>11.99</td>\n",
       "    </tr>\n",
       "    <tr>\n",
       "      <th>s_79696</th>\n",
       "      <td>13.96</td>\n",
       "    </tr>\n",
       "    <tr>\n",
       "      <th>s_85977</th>\n",
       "      <td>10.99</td>\n",
       "    </tr>\n",
       "    <tr>\n",
       "      <th>s_86739</th>\n",
       "      <td>8.99</td>\n",
       "    </tr>\n",
       "    <tr>\n",
       "      <th rowspan=\"7\" valign=\"top\">c_10</th>\n",
       "      <th>s_117253</th>\n",
       "      <td>16.99</td>\n",
       "    </tr>\n",
       "    <tr>\n",
       "      <th>s_120724</th>\n",
       "      <td>28.99</td>\n",
       "    </tr>\n",
       "    <tr>\n",
       "      <th>s_131932</th>\n",
       "      <td>58.27</td>\n",
       "    </tr>\n",
       "    <tr>\n",
       "      <th>s_134165</th>\n",
       "      <td>29.02</td>\n",
       "    </tr>\n",
       "    <tr>\n",
       "      <th>s_15668</th>\n",
       "      <td>25.93</td>\n",
       "    </tr>\n",
       "    <tr>\n",
       "      <th>s_17374</th>\n",
       "      <td>82.92</td>\n",
       "    </tr>\n",
       "    <tr>\n",
       "      <th>s_176854</th>\n",
       "      <td>16.99</td>\n",
       "    </tr>\n",
       "  </tbody>\n",
       "</table>\n",
       "</div>"
      ],
      "text/plain": [
       "                      price\n",
       "client_id session_id       \n",
       "c_1       s_105105     7.99\n",
       "          s_114737    92.62\n",
       "          s_120172    44.29\n",
       "          s_134971    10.30\n",
       "          s_136532    13.78\n",
       "          s_139610    16.99\n",
       "          s_158128     5.99\n",
       "          s_172478     5.99\n",
       "          s_182481    11.99\n",
       "          s_190973     8.99\n",
       "          s_199811    18.94\n",
       "          s_205377     8.99\n",
       "          s_224447    10.30\n",
       "          s_228867    16.99\n",
       "          s_230001    11.99\n",
       "          s_231729     5.99\n",
       "          s_242617    13.96\n",
       "          s_244105    18.94\n",
       "          s_257402    13.96\n",
       "          s_258252    12.30\n",
       "          s_278688    10.99\n",
       "          s_286029    11.99\n",
       "          s_315508    11.99\n",
       "          s_317678    18.94\n",
       "          s_327424    44.29\n",
       "          s_47346     19.53\n",
       "          s_65433     11.99\n",
       "          s_66947     12.30\n",
       "          s_67467     18.94\n",
       "          s_67769     11.99\n",
       "          s_79696     13.96\n",
       "          s_85977     10.99\n",
       "          s_86739      8.99\n",
       "c_10      s_117253    16.99\n",
       "          s_120724    28.99\n",
       "          s_131932    58.27\n",
       "          s_134165    29.02\n",
       "          s_15668     25.93\n",
       "          s_17374     82.92\n",
       "          s_176854    16.99"
      ]
     },
     "execution_count": 83,
     "metadata": {},
     "output_type": "execute_result"
    }
   ],
   "source": [
    "panier_client=trans_prod_cli[[\"client_id\",\"session_id\",\"price\"]].groupby([\"client_id\",\"session_id\"]).sum()\n",
    "panier_client.head(40)"
   ]
  },
  {
   "cell_type": "code",
   "execution_count": 84,
   "id": "dc25af6e",
   "metadata": {},
   "outputs": [
    {
     "data": {
      "text/html": [
       "<div>\n",
       "<style scoped>\n",
       "    .dataframe tbody tr th:only-of-type {\n",
       "        vertical-align: middle;\n",
       "    }\n",
       "\n",
       "    .dataframe tbody tr th {\n",
       "        vertical-align: top;\n",
       "    }\n",
       "\n",
       "    .dataframe thead th {\n",
       "        text-align: right;\n",
       "    }\n",
       "</style>\n",
       "<table border=\"1\" class=\"dataframe\">\n",
       "  <thead>\n",
       "    <tr style=\"text-align: right;\">\n",
       "      <th></th>\n",
       "      <th>client_id</th>\n",
       "      <th>price</th>\n",
       "      <th>birth</th>\n",
       "      <th>age</th>\n",
       "    </tr>\n",
       "  </thead>\n",
       "  <tbody>\n",
       "    <tr>\n",
       "      <th>0</th>\n",
       "      <td>c_1</td>\n",
       "      <td>16.914545</td>\n",
       "      <td>1955</td>\n",
       "      <td>68</td>\n",
       "    </tr>\n",
       "    <tr>\n",
       "      <th>1</th>\n",
       "      <td>c_10</td>\n",
       "      <td>39.811765</td>\n",
       "      <td>1956</td>\n",
       "      <td>67</td>\n",
       "    </tr>\n",
       "    <tr>\n",
       "      <th>2</th>\n",
       "      <td>c_100</td>\n",
       "      <td>50.970000</td>\n",
       "      <td>1992</td>\n",
       "      <td>31</td>\n",
       "    </tr>\n",
       "    <tr>\n",
       "      <th>3</th>\n",
       "      <td>c_1000</td>\n",
       "      <td>24.321398</td>\n",
       "      <td>1966</td>\n",
       "      <td>57</td>\n",
       "    </tr>\n",
       "    <tr>\n",
       "      <th>4</th>\n",
       "      <td>c_1001</td>\n",
       "      <td>38.571489</td>\n",
       "      <td>1982</td>\n",
       "      <td>41</td>\n",
       "    </tr>\n",
       "    <tr>\n",
       "      <th>...</th>\n",
       "      <td>...</td>\n",
       "      <td>...</td>\n",
       "      <td>...</td>\n",
       "      <td>...</td>\n",
       "    </tr>\n",
       "    <tr>\n",
       "      <th>8595</th>\n",
       "      <td>c_995</td>\n",
       "      <td>21.045556</td>\n",
       "      <td>1955</td>\n",
       "      <td>68</td>\n",
       "    </tr>\n",
       "    <tr>\n",
       "      <th>8596</th>\n",
       "      <td>c_996</td>\n",
       "      <td>20.576962</td>\n",
       "      <td>1970</td>\n",
       "      <td>53</td>\n",
       "    </tr>\n",
       "    <tr>\n",
       "      <th>8597</th>\n",
       "      <td>c_997</td>\n",
       "      <td>62.083750</td>\n",
       "      <td>1994</td>\n",
       "      <td>29</td>\n",
       "    </tr>\n",
       "    <tr>\n",
       "      <th>8598</th>\n",
       "      <td>c_998</td>\n",
       "      <td>120.864348</td>\n",
       "      <td>2001</td>\n",
       "      <td>22</td>\n",
       "    </tr>\n",
       "    <tr>\n",
       "      <th>8599</th>\n",
       "      <td>c_999</td>\n",
       "      <td>16.700000</td>\n",
       "      <td>1964</td>\n",
       "      <td>59</td>\n",
       "    </tr>\n",
       "  </tbody>\n",
       "</table>\n",
       "<p>8600 rows × 4 columns</p>\n",
       "</div>"
      ],
      "text/plain": [
       "     client_id       price  birth  age\n",
       "0          c_1   16.914545   1955   68\n",
       "1         c_10   39.811765   1956   67\n",
       "2        c_100   50.970000   1992   31\n",
       "3       c_1000   24.321398   1966   57\n",
       "4       c_1001   38.571489   1982   41\n",
       "...        ...         ...    ...  ...\n",
       "8595     c_995   21.045556   1955   68\n",
       "8596     c_996   20.576962   1970   53\n",
       "8597     c_997   62.083750   1994   29\n",
       "8598     c_998  120.864348   2001   22\n",
       "8599     c_999   16.700000   1964   59\n",
       "\n",
       "[8600 rows x 4 columns]"
      ]
     },
     "execution_count": 84,
     "metadata": {},
     "output_type": "execute_result"
    }
   ],
   "source": [
    "panier_client_moy=panier_client.groupby([\"client_id\"]).mean()\n",
    "panier_client_moy= panier_client_moy.merge(customers[['client_id','birth']], on='client_id',how='inner')\n",
    "panier_client_moy['age']=2023-panier_client_moy['birth']\n",
    "panier_client_moy"
   ]
  },
  {
   "cell_type": "markdown",
   "id": "cf46e784",
   "metadata": {},
   "source": [
    "### tester la normalité de panier moyen"
   ]
  },
  {
   "cell_type": "code",
   "execution_count": 85,
   "id": "b020487d",
   "metadata": {
    "scrolled": true
   },
   "outputs": [
    {
     "name": "stdout",
     "output_type": "stream",
     "text": [
      "Kolmogorov-Smirnov: D:0.9999833762362703 p=0.0\n"
     ]
    }
   ],
   "source": [
    "x = panier_client_moy['price']\n",
    "D, p = stats.kstest(x,'norm')\n",
    "print (\"Kolmogorov-Smirnov: D:{0} p={1}\".format(D,p))"
   ]
  },
  {
   "cell_type": "markdown",
   "id": "92e5172d",
   "metadata": {},
   "source": [
    "la valeur de P est inférieur à 0.05 donc le test ne suis pas la loi de normalité, par conséquent on fait le test de Spearman"
   ]
  },
  {
   "cell_type": "code",
   "execution_count": 86,
   "id": "de655b66",
   "metadata": {},
   "outputs": [
    {
     "data": {
      "text/plain": [
       "Text(0, 0.5, 'Montant')"
      ]
     },
     "execution_count": 86,
     "metadata": {},
     "output_type": "execute_result"
    },
    {
     "data": {
      "image/png": "[encoded data removed]",
      "text/plain": [
       "<Figure size 640x480 with 1 Axes>"
      ]
     },
     "metadata": {},
     "output_type": "display_data"
    }
   ],
   "source": [
    "sns.scatterplot(data=panier_client_moy,x='age',y='price')\n",
    "plt.xlabel(\"Age\")\n",
    "plt.ylabel(\"Montant\")"
   ]
  },
  {
   "cell_type": "markdown",
   "id": "f78602dd",
   "metadata": {},
   "source": [
    "### Calculer p-valeur"
   ]
  },
  {
   "cell_type": "code",
   "execution_count": 87,
   "id": "49bc9eb8",
   "metadata": {},
   "outputs": [
    {
     "name": "stdout",
     "output_type": "stream",
     "text": [
      "Spearman correlation: -0.701 p-valeur= 0.0\n"
     ]
    }
   ],
   "source": [
    "list1= panier_client_moy['age']\n",
    "list2= panier_client_moy['price']\n",
    "\n",
    "corr, p = spearmanr(list1, list2)\n",
    "print('Spearman correlation: %.3f' % corr, 'p-valeur=',p)"
   ]
  },
  {
   "cell_type": "markdown",
   "id": "b56f8e01",
   "metadata": {},
   "source": [
    "\n",
    "Les intérpretations des résultats des tests de spearman :\n",
    "\n",
    "Une valeur positive (maximum = +1) indique une variation simultanée dans le même sens, une valeur négative (minimum = -1) une variation simultanée en sens inverse.\n",
    "\n",
    "Une valeur de 0 de 𝑟s indique qu’il n’y a pas de relation entre les variables. Plus la valeur de 𝑟s est proche de −1 ou 1, plus la corrélation est forte ; et plus elle est proche de 0, plus la corrélation est faible.\n",
    "\n",
    "Ici, le coefficient de corrélation lui-même est de -0.701. Cela indique une relation négatif (depuis son nombre négatif). La corrélation est significative, puisque la valeur de p est bien inférieure au seuil habituel de 0,05. \n",
    "\n",
    "H0: le coefficeint de corrélation de Spearman est ègal à 0 -> aucune corrélation \n",
    "\n",
    "H1: le coéfficient de corrélation de Spearman est différent de 0 -> il y a une corrélation\n",
    "\n",
    "On rejette H0 si p-valeur < 0.05\n",
    "\n",
    "Il y a une correlation négative entre l'age et la taille du panier moyen"
   ]
  },
  {
   "cell_type": "markdown",
   "id": "f7d21c3c",
   "metadata": {},
   "source": [
    "Lʼâge est corrélé au chiffre dʼaffaires au sens inverse"
   ]
  },
  {
   "cell_type": "markdown",
   "id": "32298ca4",
   "metadata": {},
   "source": [
    "## <a name=\"C12\">12. Le lien entre le genre d’un client et les catégories des livres achetés - Chi2</a> "
   ]
  },
  {
   "cell_type": "code",
   "execution_count": 88,
   "id": "ff34905a",
   "metadata": {},
   "outputs": [
    {
     "name": "stdout",
     "output_type": "stream",
     "text": [
      "Table de contingence :\n",
      "sex         f       m\n",
      "categ                \n",
      "0.0    206220  209460\n",
      "1.0    114899  112270\n",
      "2.0     17283   19200\n",
      "\n",
      "------------------------------------------------------- \n",
      "\n",
      "Table de contingence normalisée :\n",
      "          sex                \n",
      "sex         f       m     All\n",
      "categ                        \n",
      "0.0     60.94   61.44   61.19\n",
      "1.0     33.95   32.93   33.44\n",
      "2.0      5.11    5.63    5.37\n",
      "All    100.00  100.00  100.00\n"
     ]
    }
   ],
   "source": [
    "# Table de contingence\n",
    "cont = pd.crosstab(trans_prod_cli['categ'], trans_prod_cli['sex'], margins=False)\n",
    "print('Table de contingence :')\n",
    "print(cont)\n",
    "\n",
    "import researchpy as rp\n",
    "\n",
    "# Table de contingence normalisée\n",
    "table, results = rp.crosstab(trans_prod_cli['categ'], trans_prod_cli['sex'], prop='col', test='chi-square')\n",
    "print('\\n' + '-' * 55, '\\n\\nTable de contingence normalisée :')\n",
    "print(table)"
   ]
  },
  {
   "cell_type": "code",
   "execution_count": 89,
   "id": "3b437cba",
   "metadata": {},
   "outputs": [
    {
     "data": {
      "image/png": "[encoded data removed]",
      "text/plain": [
       "<Figure size 640x480 with 2 Axes>"
      ]
     },
     "metadata": {},
     "output_type": "display_data"
    }
   ],
   "source": [
    "sns.heatmap(cont)\n",
    "plt.title('Heatmap entre le sexe et la catégorie')\n",
    "plt.savefig( 'heatmap_sexe-categorie.png', dpi=300, bbox_inches='tight')\n",
    "plt.show()"
   ]
  },
  {
   "cell_type": "markdown",
   "id": "1ed711d3",
   "metadata": {},
   "source": [
    "Conditions\n",
    "\n",
    "Le test de normalité ne fait pas partie des conditions du khi-deux, vu qu'on ne mesure pas la normalité que sur des variables quantitatives.\n",
    "\n",
    "On doit malgré tout valider 2 conditions :\n",
    "\n",
    "au moins 1 valeur dans chaque cellule de la table de contingence au moins 80% des valeurs égales ou supérieures à 0.05 Ces conditions étant remplies, la p-value confirme l'hypothèse 0, et l'absence corrélation entre les catégories et le sexe."
   ]
  },
  {
   "cell_type": "code",
   "execution_count": 90,
   "id": "df9b17aa",
   "metadata": {},
   "outputs": [
    {
     "name": "stdout",
     "output_type": "stream",
     "text": [
      "Test de Chi 2 (2 catégorielles)\n",
      "Stat = 147.003\n",
      "p-value = 0.00000000000000000000000000000001199\n",
      "H1: il y a une dépendance entre les échantillons.\n",
      "\n",
      "Conditions :\n",
      "- Les observations utilisées dans le calcul du tableau de contingence sont indépendantes. \n",
      "- 25 exemples ou plus dans chaque cellule du tableau de contingence.\n"
     ]
    }
   ],
   "source": [
    "# Test de Chi 2\n",
    "\n",
    "stat, p, dof, expected = stats.chi2_contingency(cont)\n",
    "print('Test de Chi 2 (2 catégorielles)')\n",
    "print('Stat = %.3f\\np-value = %.35f' % (stat, p))\n",
    "if p > .05:\n",
    "    print('H0: les deux échantillons sont indépendants')\n",
    "else:\n",
    "    print('H1: il y a une dépendance entre les échantillons.')\n",
    "print('\\nConditions :\\n'\n",
    "      '- Les observations utilisées dans le calcul du tableau de contingence sont indépendantes.',\n",
    "      '\\n- 25 exemples ou plus dans chaque cellule du tableau de contingence.')"
   ]
  }
 ],
 "metadata": {
  "kernelspec": {
   "display_name": "Python 3 (ipykernel)",
   "language": "python",
   "name": "python3"
  },
  "language_info": {
   "codemirror_mode": {
    "name": "ipython",
    "version": 3
   },
   "file_extension": ".py",
   "mimetype": "text/x-python",
   "name": "python",
   "nbconvert_exporter": "python",
   "pygments_lexer": "ipython3",
   "version": "3.9.13"
  }
 },
 "nbformat": 4,
 "nbformat_minor": 5
}
